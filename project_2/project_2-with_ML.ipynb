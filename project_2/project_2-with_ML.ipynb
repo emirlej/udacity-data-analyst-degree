{
 "cells": [
  {
   "cell_type": "code",
   "execution_count": 1,
   "metadata": {
    "collapsed": false
   },
   "outputs": [],
   "source": [
    "import pandas as pd\n",
    "import numpy as np\n",
    "import matplotlib.pyplot as plt\n",
    "import os\n",
    "import seaborn as sns\n",
    "from __future__ import division\n",
    "from IPython.display import Image\n",
    "\n",
    "%matplotlib inline"
   ]
  },
  {
   "cell_type": "code",
   "execution_count": 2,
   "metadata": {
    "collapsed": false
   },
   "outputs": [
    {
     "data": {
      "text/html": [
       "\n",
       "<!-- Want all my tables to be left aligned -->\n",
       "\n",
       "<style>\n",
       "    table {float:left}\n",
       "</style>"
      ],
      "text/plain": [
       "<IPython.core.display.HTML object>"
      ]
     },
     "metadata": {},
     "output_type": "display_data"
    }
   ],
   "source": [
    "%%html\n",
    "\n",
    "<!-- Want all my tables to be left aligned -->\n",
    "\n",
    "<style>\n",
    "    table {float:left}\n",
    "</style>"
   ]
  },
  {
   "cell_type": "markdown",
   "metadata": {},
   "source": [
    "# Introduction \n",
    "\n",
    ">The sinking of the RMS Titanic is one of the most infamous shipwrecks in history.  On April 15, 1912, during her maiden voyage, the Titanic sank after colliding with an iceberg, killing 1502 out of 2224 passengers and crew. This sensational tragedy shocked the international community and led to better safety regulations for ships. \n",
    "\n",
    ">One of the reasons that the shipwreck led to such loss of life was that there were not enough lifeboats for the passengers and crew. Although there was some element of luck involved in surviving the sinking, some groups of people were more likely to survive than others, such as women, children, and the upper-class.\n",
    "\n",
    "# Purpose \n",
    " \n",
    "We are going to examine the [Titanic disaster](https://www.kaggle.com/c/titanic) dataset found on Kaggle. This dataset contains demographics and passenger information from 891 of the 2224 passengers and crew on board the Titanic.\n",
    "\n",
    "\n",
    "Firstly, we will take a look at the data, and then decide which questions we want to answer from the dataset. Nonetheless, we will clean and modify the data, and remove unwanted columns if they are not necessary for our analysis."
   ]
  },
  {
   "cell_type": "markdown",
   "metadata": {},
   "source": [
    "# Read data"
   ]
  },
  {
   "cell_type": "code",
   "execution_count": 75,
   "metadata": {
    "collapsed": false
   },
   "outputs": [
    {
     "data": {
      "text/html": [
       "<div>\n",
       "<table border=\"1\" class=\"dataframe\">\n",
       "  <thead>\n",
       "    <tr style=\"text-align: right;\">\n",
       "      <th></th>\n",
       "      <th>PassengerId</th>\n",
       "      <th>Survived</th>\n",
       "      <th>Pclass</th>\n",
       "      <th>Name</th>\n",
       "      <th>Sex</th>\n",
       "      <th>Age</th>\n",
       "      <th>SibSp</th>\n",
       "      <th>Parch</th>\n",
       "      <th>Ticket</th>\n",
       "      <th>Fare</th>\n",
       "      <th>Cabin</th>\n",
       "      <th>Embarked</th>\n",
       "    </tr>\n",
       "  </thead>\n",
       "  <tbody>\n",
       "    <tr>\n",
       "      <th>0</th>\n",
       "      <td>1</td>\n",
       "      <td>0</td>\n",
       "      <td>3</td>\n",
       "      <td>Braund, Mr. Owen Harris</td>\n",
       "      <td>male</td>\n",
       "      <td>22.0</td>\n",
       "      <td>1</td>\n",
       "      <td>0</td>\n",
       "      <td>A/5 21171</td>\n",
       "      <td>7.2500</td>\n",
       "      <td>NaN</td>\n",
       "      <td>S</td>\n",
       "    </tr>\n",
       "    <tr>\n",
       "      <th>1</th>\n",
       "      <td>2</td>\n",
       "      <td>1</td>\n",
       "      <td>1</td>\n",
       "      <td>Cumings, Mrs. John Bradley (Florence Briggs Th...</td>\n",
       "      <td>female</td>\n",
       "      <td>38.0</td>\n",
       "      <td>1</td>\n",
       "      <td>0</td>\n",
       "      <td>PC 17599</td>\n",
       "      <td>71.2833</td>\n",
       "      <td>C85</td>\n",
       "      <td>C</td>\n",
       "    </tr>\n",
       "    <tr>\n",
       "      <th>2</th>\n",
       "      <td>3</td>\n",
       "      <td>1</td>\n",
       "      <td>3</td>\n",
       "      <td>Heikkinen, Miss. Laina</td>\n",
       "      <td>female</td>\n",
       "      <td>26.0</td>\n",
       "      <td>0</td>\n",
       "      <td>0</td>\n",
       "      <td>STON/O2. 3101282</td>\n",
       "      <td>7.9250</td>\n",
       "      <td>NaN</td>\n",
       "      <td>S</td>\n",
       "    </tr>\n",
       "    <tr>\n",
       "      <th>3</th>\n",
       "      <td>4</td>\n",
       "      <td>1</td>\n",
       "      <td>1</td>\n",
       "      <td>Futrelle, Mrs. Jacques Heath (Lily May Peel)</td>\n",
       "      <td>female</td>\n",
       "      <td>35.0</td>\n",
       "      <td>1</td>\n",
       "      <td>0</td>\n",
       "      <td>113803</td>\n",
       "      <td>53.1000</td>\n",
       "      <td>C123</td>\n",
       "      <td>S</td>\n",
       "    </tr>\n",
       "    <tr>\n",
       "      <th>4</th>\n",
       "      <td>5</td>\n",
       "      <td>0</td>\n",
       "      <td>3</td>\n",
       "      <td>Allen, Mr. William Henry</td>\n",
       "      <td>male</td>\n",
       "      <td>35.0</td>\n",
       "      <td>0</td>\n",
       "      <td>0</td>\n",
       "      <td>373450</td>\n",
       "      <td>8.0500</td>\n",
       "      <td>NaN</td>\n",
       "      <td>S</td>\n",
       "    </tr>\n",
       "  </tbody>\n",
       "</table>\n",
       "</div>"
      ],
      "text/plain": [
       "   PassengerId  Survived  Pclass  \\\n",
       "0            1         0       3   \n",
       "1            2         1       1   \n",
       "2            3         1       3   \n",
       "3            4         1       1   \n",
       "4            5         0       3   \n",
       "\n",
       "                                                Name     Sex   Age  SibSp  \\\n",
       "0                            Braund, Mr. Owen Harris    male  22.0      1   \n",
       "1  Cumings, Mrs. John Bradley (Florence Briggs Th...  female  38.0      1   \n",
       "2                             Heikkinen, Miss. Laina  female  26.0      0   \n",
       "3       Futrelle, Mrs. Jacques Heath (Lily May Peel)  female  35.0      1   \n",
       "4                           Allen, Mr. William Henry    male  35.0      0   \n",
       "\n",
       "   Parch            Ticket     Fare Cabin Embarked  \n",
       "0      0         A/5 21171   7.2500   NaN        S  \n",
       "1      0          PC 17599  71.2833   C85        C  \n",
       "2      0  STON/O2. 3101282   7.9250   NaN        S  \n",
       "3      0            113803  53.1000  C123        S  \n",
       "4      0            373450   8.0500   NaN        S  "
      ]
     },
     "execution_count": 75,
     "metadata": {},
     "output_type": "execute_result"
    }
   ],
   "source": [
    "# Read the data and take a quick look at it\n",
    "df = pd.read_csv(os.path.join('data', 'titanic_data.csv'))\n",
    "df.head()"
   ]
  },
  {
   "cell_type": "markdown",
   "metadata": {},
   "source": [
    "### VARIABLE DESCRIPTIONS:\n",
    "(from [Kaggle](https://www.kaggle.com/c/titanic/data))\n",
    "\n",
    "- **survival** (0 = No; 1 = Yes)\n",
    "- **pclass**: Passenger Class (1 = 1st; 2 = 2nd; 3 = 3rd)\n",
    "- **name**\n",
    "- **sex**\n",
    "- **age**\n",
    "- **sibsp**: Number of Siblings/Spouses Aboard\n",
    "- **parch**: Number of Parents/Children Aboard\n",
    "- **ticket**: Ticket Number\n",
    "- **fare**\n",
    "- **cabin**\n",
    "- **embarked**: Port of Embarkation (C = Cherbourg; Q = Queenstown; S = Southampton)\n",
    "\n",
    "SPECIAL NOTES:\n",
    "Pclass is a proxy for socio-economic status (SES)\n",
    " 1st ~ Upper; 2nd ~ Middle; 3rd ~ Lower\n",
    "\n",
    "Age is in Years; Fractional if Age less than One (1)\n",
    " If the Age is Estimated, it is in the form xx.5\n",
    "\n",
    "With respect to the family relation variables (i.e. sibsp and parch)\n",
    "some relations were ignored.  The following are the definitions used\n",
    "for sibsp and parch.\n",
    "\n",
    "Sibling:  Brother, Sister, Stepbrother, or Stepsister of Passenger Aboard Titanic\n",
    "Spouse:   Husband or Wife of Passenger Aboard Titanic (Mistresses and Fiances Ignored)\n",
    "Parent:   Mother or Father of Passenger Aboard Titanic\n",
    "Child:    Son, Daughter, Stepson, or Stepdaughter of Passenger Aboard Titanic\n",
    "\n",
    "Other family relatives excluded from this study include cousins,\n",
    "nephews/nieces, aunts/uncles, and in-laws.  Some children traveled\n",
    "only with a nanny, therefore parch=0 for them.  As well, some\n",
    "traveled with very close friends or neighbors in a village, however,\n",
    "the definitions do not support such relations."
   ]
  },
  {
   "cell_type": "markdown",
   "metadata": {},
   "source": [
    "# Data wrangling part"
   ]
  },
  {
   "cell_type": "markdown",
   "metadata": {},
   "source": [
    "### Unnecessary columns\n",
    "Immediately, we have some columns which we would like to remove, as we believe they will not influence our analysis. From the table above these are identified as:\n",
    "\n",
    "- PassengerId\n",
    "- Name: ***The title might be important, but we will not look into that now.***\n",
    "- Ticket\n",
    "- Cabin: Is related to the class and ticket fare.\n",
    "\n",
    "The reason for the selection, is that they are string-like and used as identification in the table."
   ]
  },
  {
   "cell_type": "code",
   "execution_count": 76,
   "metadata": {
    "collapsed": false
   },
   "outputs": [
    {
     "data": {
      "text/html": [
       "<div>\n",
       "<table border=\"1\" class=\"dataframe\">\n",
       "  <thead>\n",
       "    <tr style=\"text-align: right;\">\n",
       "      <th></th>\n",
       "      <th>Survived</th>\n",
       "      <th>Pclass</th>\n",
       "      <th>Sex</th>\n",
       "      <th>Age</th>\n",
       "      <th>SibSp</th>\n",
       "      <th>Parch</th>\n",
       "      <th>Fare</th>\n",
       "      <th>Embarked</th>\n",
       "    </tr>\n",
       "  </thead>\n",
       "  <tbody>\n",
       "    <tr>\n",
       "      <th>0</th>\n",
       "      <td>0</td>\n",
       "      <td>3</td>\n",
       "      <td>male</td>\n",
       "      <td>22.0</td>\n",
       "      <td>1</td>\n",
       "      <td>0</td>\n",
       "      <td>7.2500</td>\n",
       "      <td>S</td>\n",
       "    </tr>\n",
       "    <tr>\n",
       "      <th>1</th>\n",
       "      <td>1</td>\n",
       "      <td>1</td>\n",
       "      <td>female</td>\n",
       "      <td>38.0</td>\n",
       "      <td>1</td>\n",
       "      <td>0</td>\n",
       "      <td>71.2833</td>\n",
       "      <td>C</td>\n",
       "    </tr>\n",
       "    <tr>\n",
       "      <th>2</th>\n",
       "      <td>1</td>\n",
       "      <td>3</td>\n",
       "      <td>female</td>\n",
       "      <td>26.0</td>\n",
       "      <td>0</td>\n",
       "      <td>0</td>\n",
       "      <td>7.9250</td>\n",
       "      <td>S</td>\n",
       "    </tr>\n",
       "    <tr>\n",
       "      <th>3</th>\n",
       "      <td>1</td>\n",
       "      <td>1</td>\n",
       "      <td>female</td>\n",
       "      <td>35.0</td>\n",
       "      <td>1</td>\n",
       "      <td>0</td>\n",
       "      <td>53.1000</td>\n",
       "      <td>S</td>\n",
       "    </tr>\n",
       "    <tr>\n",
       "      <th>4</th>\n",
       "      <td>0</td>\n",
       "      <td>3</td>\n",
       "      <td>male</td>\n",
       "      <td>35.0</td>\n",
       "      <td>0</td>\n",
       "      <td>0</td>\n",
       "      <td>8.0500</td>\n",
       "      <td>S</td>\n",
       "    </tr>\n",
       "  </tbody>\n",
       "</table>\n",
       "</div>"
      ],
      "text/plain": [
       "   Survived  Pclass     Sex   Age  SibSp  Parch     Fare Embarked\n",
       "0         0       3    male  22.0      1      0   7.2500        S\n",
       "1         1       1  female  38.0      1      0  71.2833        C\n",
       "2         1       3  female  26.0      0      0   7.9250        S\n",
       "3         1       1  female  35.0      1      0  53.1000        S\n",
       "4         0       3    male  35.0      0      0   8.0500        S"
      ]
     },
     "execution_count": 76,
     "metadata": {},
     "output_type": "execute_result"
    }
   ],
   "source": [
    "# Dropping the variables\n",
    "df.drop(['PassengerId', 'Name', 'Ticket', 'Cabin'], axis=1, inplace=True)\n",
    "df.head()"
   ]
  },
  {
   "cell_type": "code",
   "execution_count": 77,
   "metadata": {
    "collapsed": false
   },
   "outputs": [
    {
     "data": {
      "text/plain": [
       "(891, 8)"
      ]
     },
     "execution_count": 77,
     "metadata": {},
     "output_type": "execute_result"
    }
   ],
   "source": [
    "# Size of the matrix\n",
    "df.shape"
   ]
  },
  {
   "cell_type": "markdown",
   "metadata": {},
   "source": [
    "Now, let us look at what data types are present in the data frame, and if we are missing any data "
   ]
  },
  {
   "cell_type": "code",
   "execution_count": 78,
   "metadata": {
    "collapsed": false
   },
   "outputs": [
    {
     "data": {
      "text/plain": [
       "Survived      int64\n",
       "Pclass        int64\n",
       "Sex          object\n",
       "Age         float64\n",
       "SibSp         int64\n",
       "Parch         int64\n",
       "Fare        float64\n",
       "Embarked     object\n",
       "dtype: object"
      ]
     },
     "execution_count": 78,
     "metadata": {},
     "output_type": "execute_result"
    }
   ],
   "source": [
    "# Data types\n",
    "df.dtypes"
   ]
  },
  {
   "cell_type": "markdown",
   "metadata": {},
   "source": [
    "All columns, except from Sex and Embarked are numerical, i.e. integers and floats. "
   ]
  },
  {
   "cell_type": "code",
   "execution_count": 79,
   "metadata": {
    "collapsed": false
   },
   "outputs": [
    {
     "name": "stdout",
     "output_type": "stream",
     "text": [
      "['male' 'female']\n",
      "['S' 'C' 'Q' nan]\n"
     ]
    }
   ],
   "source": [
    "# Check why Embarked and Sex are objects\n",
    "print df['Sex'].unique()\n",
    "print df['Embarked'].unique()"
   ]
  },
  {
   "cell_type": "markdown",
   "metadata": {},
   "source": [
    "Seems as object in pandas means string. From [pandas doc](http://pandas.pydata.org/pandas-docs/stable/basics.html) we have:\n",
    "\n",
    " >**Note** When working with heterogeneous data, the dtype of the resulting ndarray will be chosen to accommodate all of the data involved. For example, if strings are involved, the result will be of object dtype.\n",
    " \n",
    "So, when strings are found in a pandas series, the series will be of dtype=object. Nice to know :)!\n",
    " \n",
    " \n",
    "Nevertheless, we see missing values (NaN)! We will look at this in the following cells."
   ]
  },
  {
   "cell_type": "code",
   "execution_count": 80,
   "metadata": {
    "collapsed": false
   },
   "outputs": [
    {
     "data": {
      "text/plain": [
       "Survived      0\n",
       "Pclass        0\n",
       "Sex           0\n",
       "Age         177\n",
       "SibSp         0\n",
       "Parch         0\n",
       "Fare          0\n",
       "Embarked      2\n",
       "dtype: int64"
      ]
     },
     "execution_count": 80,
     "metadata": {},
     "output_type": "execute_result"
    }
   ],
   "source": [
    "# Finding number of missing values\n",
    "df.isnull().sum()"
   ]
  },
  {
   "cell_type": "markdown",
   "metadata": {},
   "source": [
    "177 Age and 2 Embarked entries are missing. For this project, we will simply drop the rows containing these missing values."
   ]
  },
  {
   "cell_type": "code",
   "execution_count": 81,
   "metadata": {
    "collapsed": false
   },
   "outputs": [
    {
     "data": {
      "text/plain": [
       "(712, 8)"
      ]
     },
     "execution_count": 81,
     "metadata": {},
     "output_type": "execute_result"
    }
   ],
   "source": [
    "# Remove the NaN-values\n",
    "df.dropna(inplace=True)\n",
    "\n",
    "# Reset the index and remove the old one\n",
    "df.reset_index(inplace=True, drop=True)\n",
    "\n",
    "# We will now have less values as the rows with NaN are removed.\n",
    "df.shape"
   ]
  },
  {
   "cell_type": "markdown",
   "metadata": {},
   "source": [
    "712 rows of passenger information is good for our purpose. Now let us take a look at the correlation matrix and pairplot to see if we can get a good notion on which variables are governing passenger survival. "
   ]
  },
  {
   "cell_type": "code",
   "execution_count": 82,
   "metadata": {
    "collapsed": false
   },
   "outputs": [
    {
     "data": {
      "text/html": [
       "<div>\n",
       "<table border=\"1\" class=\"dataframe\">\n",
       "  <thead>\n",
       "    <tr style=\"text-align: right;\">\n",
       "      <th></th>\n",
       "      <th>Survived</th>\n",
       "      <th>Pclass</th>\n",
       "      <th>Age</th>\n",
       "      <th>SibSp</th>\n",
       "      <th>Parch</th>\n",
       "      <th>Fare</th>\n",
       "    </tr>\n",
       "  </thead>\n",
       "  <tbody>\n",
       "    <tr>\n",
       "      <th>Survived</th>\n",
       "      <td>1.000000</td>\n",
       "      <td>-0.356462</td>\n",
       "      <td>-0.082446</td>\n",
       "      <td>-0.015523</td>\n",
       "      <td>0.095265</td>\n",
       "      <td>0.266100</td>\n",
       "    </tr>\n",
       "    <tr>\n",
       "      <th>Pclass</th>\n",
       "      <td>-0.356462</td>\n",
       "      <td>1.000000</td>\n",
       "      <td>-0.365902</td>\n",
       "      <td>0.065187</td>\n",
       "      <td>0.023666</td>\n",
       "      <td>-0.552893</td>\n",
       "    </tr>\n",
       "    <tr>\n",
       "      <th>Age</th>\n",
       "      <td>-0.082446</td>\n",
       "      <td>-0.365902</td>\n",
       "      <td>1.000000</td>\n",
       "      <td>-0.307351</td>\n",
       "      <td>-0.187896</td>\n",
       "      <td>0.093143</td>\n",
       "    </tr>\n",
       "    <tr>\n",
       "      <th>SibSp</th>\n",
       "      <td>-0.015523</td>\n",
       "      <td>0.065187</td>\n",
       "      <td>-0.307351</td>\n",
       "      <td>1.000000</td>\n",
       "      <td>0.383338</td>\n",
       "      <td>0.139860</td>\n",
       "    </tr>\n",
       "    <tr>\n",
       "      <th>Parch</th>\n",
       "      <td>0.095265</td>\n",
       "      <td>0.023666</td>\n",
       "      <td>-0.187896</td>\n",
       "      <td>0.383338</td>\n",
       "      <td>1.000000</td>\n",
       "      <td>0.206624</td>\n",
       "    </tr>\n",
       "    <tr>\n",
       "      <th>Fare</th>\n",
       "      <td>0.266100</td>\n",
       "      <td>-0.552893</td>\n",
       "      <td>0.093143</td>\n",
       "      <td>0.139860</td>\n",
       "      <td>0.206624</td>\n",
       "      <td>1.000000</td>\n",
       "    </tr>\n",
       "  </tbody>\n",
       "</table>\n",
       "</div>"
      ],
      "text/plain": [
       "          Survived    Pclass       Age     SibSp     Parch      Fare\n",
       "Survived  1.000000 -0.356462 -0.082446 -0.015523  0.095265  0.266100\n",
       "Pclass   -0.356462  1.000000 -0.365902  0.065187  0.023666 -0.552893\n",
       "Age      -0.082446 -0.365902  1.000000 -0.307351 -0.187896  0.093143\n",
       "SibSp    -0.015523  0.065187 -0.307351  1.000000  0.383338  0.139860\n",
       "Parch     0.095265  0.023666 -0.187896  0.383338  1.000000  0.206624\n",
       "Fare      0.266100 -0.552893  0.093143  0.139860  0.206624  1.000000"
      ]
     },
     "execution_count": 82,
     "metadata": {},
     "output_type": "execute_result"
    }
   ],
   "source": [
    "# Look at the correlation matrix to see how the different features realate to each other\n",
    "corr_matrix = df.corr()\n",
    "corr_matrix"
   ]
  },
  {
   "cell_type": "markdown",
   "metadata": {},
   "source": [
    "Correlation can take the value between (-1, 1) and demonstrates a linear relationship between two variables. However, it is always useful to plot the data. One may be tricked by a relatively good correlation, even though the data is non-linear.\n",
    "\n",
    "Let us just look at the correlation between the **Survived** cell and sort the absolute values (just to see which variables have the greatest absolute correlation)."
   ]
  },
  {
   "cell_type": "code",
   "execution_count": 83,
   "metadata": {
    "collapsed": false
   },
   "outputs": [
    {
     "data": {
      "text/plain": [
       "Survived    1.000000\n",
       "Pclass      0.356462\n",
       "Fare        0.266100\n",
       "Parch       0.095265\n",
       "Age         0.082446\n",
       "SibSp       0.015523\n",
       "Name: Survived, dtype: float64"
      ]
     },
     "execution_count": 83,
     "metadata": {},
     "output_type": "execute_result"
    }
   ],
   "source": [
    "# Sort the absolute values\n",
    "corr_matrix['Survived'].map(np.abs).sort_values(ascending=False)"
   ]
  },
  {
   "cell_type": "markdown",
   "metadata": {},
   "source": [
    "Ok, so we see that two parameters have a relative high correlation with **Survived** compared to the others, Pclass and Fare. Maybe this is an indicator that they have a strong influence on survival?"
   ]
  },
  {
   "cell_type": "code",
   "execution_count": 12,
   "metadata": {
    "collapsed": false
   },
   "outputs": [
    {
     "data": {
      "text/plain": [
       "<seaborn.axisgrid.PairGrid at 0x9f1dcc0>"
      ]
     },
     "execution_count": 12,
     "metadata": {},
     "output_type": "execute_result"
    },
    {
     "data": {
      "image/png": "[encoded data removed]",
      "text/plain": [
       "<matplotlib.figure.Figure at 0x9e59978>"
      ]
     },
     "metadata": {},
     "output_type": "display_data"
    }
   ],
   "source": [
    "# Let's take a quick look at the data to get some notion about it\n",
    "sns.pairplot(data=df, hue='Survived') "
   ]
  },
  {
   "cell_type": "markdown",
   "metadata": {},
   "source": [
    "The pairplot illustrates some interesting findings (remember that we removed all rows contacting NaN-values). Also, we see that there is no good linear relationship between the variables. Looking at the diagonal histograms, some interesting information we see is:\n",
    "\n",
    "*Will indicate which chart I saw the information using (row, column) notion. (0,0) means the upper left chart.*\n",
    "\n",
    "- Most of the people did not survive (0, 0).\n",
    "- Similar amount of people at 1st and 2nd class. However, the majority of the people bought 3rd class tickets (1, 1).\n",
    "- A slightly right-skewed age distribution (more adults). Most people with age around 20-40 (2, 2).\n",
    "- Seems that most people between 60-80 years did not survive (0, 2).\n",
    "- Mostly people without parents or children (3, 3) and (4, 4).\n",
    "- Fare ticket under 50 was most common and a large portion of them died (5, 5).\n",
    "\n",
    "Much more can be interpreted from the chart above, but we will not attempt that here.\n",
    "\n",
    "\n",
    "Let us look at some statistics on the data:"
   ]
  },
  {
   "cell_type": "code",
   "execution_count": 84,
   "metadata": {
    "collapsed": false
   },
   "outputs": [
    {
     "data": {
      "text/html": [
       "<div>\n",
       "<table border=\"1\" class=\"dataframe\">\n",
       "  <thead>\n",
       "    <tr style=\"text-align: right;\">\n",
       "      <th></th>\n",
       "      <th>Survived</th>\n",
       "      <th>Pclass</th>\n",
       "      <th>Age</th>\n",
       "      <th>SibSp</th>\n",
       "      <th>Parch</th>\n",
       "      <th>Fare</th>\n",
       "    </tr>\n",
       "  </thead>\n",
       "  <tbody>\n",
       "    <tr>\n",
       "      <th>count</th>\n",
       "      <td>712.000000</td>\n",
       "      <td>712.000000</td>\n",
       "      <td>712.000000</td>\n",
       "      <td>712.000000</td>\n",
       "      <td>712.000000</td>\n",
       "      <td>712.000000</td>\n",
       "    </tr>\n",
       "    <tr>\n",
       "      <th>mean</th>\n",
       "      <td>0.404494</td>\n",
       "      <td>2.240169</td>\n",
       "      <td>29.642093</td>\n",
       "      <td>0.514045</td>\n",
       "      <td>0.432584</td>\n",
       "      <td>34.567251</td>\n",
       "    </tr>\n",
       "    <tr>\n",
       "      <th>std</th>\n",
       "      <td>0.491139</td>\n",
       "      <td>0.836854</td>\n",
       "      <td>14.492933</td>\n",
       "      <td>0.930692</td>\n",
       "      <td>0.854181</td>\n",
       "      <td>52.938648</td>\n",
       "    </tr>\n",
       "    <tr>\n",
       "      <th>min</th>\n",
       "      <td>0.000000</td>\n",
       "      <td>1.000000</td>\n",
       "      <td>0.420000</td>\n",
       "      <td>0.000000</td>\n",
       "      <td>0.000000</td>\n",
       "      <td>0.000000</td>\n",
       "    </tr>\n",
       "    <tr>\n",
       "      <th>25%</th>\n",
       "      <td>0.000000</td>\n",
       "      <td>1.000000</td>\n",
       "      <td>20.000000</td>\n",
       "      <td>0.000000</td>\n",
       "      <td>0.000000</td>\n",
       "      <td>8.050000</td>\n",
       "    </tr>\n",
       "    <tr>\n",
       "      <th>50%</th>\n",
       "      <td>0.000000</td>\n",
       "      <td>2.000000</td>\n",
       "      <td>28.000000</td>\n",
       "      <td>0.000000</td>\n",
       "      <td>0.000000</td>\n",
       "      <td>15.645850</td>\n",
       "    </tr>\n",
       "    <tr>\n",
       "      <th>75%</th>\n",
       "      <td>1.000000</td>\n",
       "      <td>3.000000</td>\n",
       "      <td>38.000000</td>\n",
       "      <td>1.000000</td>\n",
       "      <td>1.000000</td>\n",
       "      <td>33.000000</td>\n",
       "    </tr>\n",
       "    <tr>\n",
       "      <th>max</th>\n",
       "      <td>1.000000</td>\n",
       "      <td>3.000000</td>\n",
       "      <td>80.000000</td>\n",
       "      <td>5.000000</td>\n",
       "      <td>6.000000</td>\n",
       "      <td>512.329200</td>\n",
       "    </tr>\n",
       "  </tbody>\n",
       "</table>\n",
       "</div>"
      ],
      "text/plain": [
       "         Survived      Pclass         Age       SibSp       Parch        Fare\n",
       "count  712.000000  712.000000  712.000000  712.000000  712.000000  712.000000\n",
       "mean     0.404494    2.240169   29.642093    0.514045    0.432584   34.567251\n",
       "std      0.491139    0.836854   14.492933    0.930692    0.854181   52.938648\n",
       "min      0.000000    1.000000    0.420000    0.000000    0.000000    0.000000\n",
       "25%      0.000000    1.000000   20.000000    0.000000    0.000000    8.050000\n",
       "50%      0.000000    2.000000   28.000000    0.000000    0.000000   15.645850\n",
       "75%      1.000000    3.000000   38.000000    1.000000    1.000000   33.000000\n",
       "max      1.000000    3.000000   80.000000    5.000000    6.000000  512.329200"
      ]
     },
     "execution_count": 84,
     "metadata": {},
     "output_type": "execute_result"
    }
   ],
   "source": [
    "df.describe()"
   ]
  },
  {
   "cell_type": "markdown",
   "metadata": {},
   "source": [
    "From the table above we see some findings:\n",
    "\n",
    "- Around 40% of the people survived the sinking. This is a bit away from the full dataset value: 1502 of 2224 died --> 32.5% survival rate. But it is good enough for us.\n",
    "- Average age was around 30 years. The min value is the fraction of of one year. 0.42 means around 5 months, which is a baby.\n",
    "- The maximum fare is quite huge, 512, while the min value indicates 0 fare. "
   ]
  },
  {
   "cell_type": "markdown",
   "metadata": {},
   "source": [
    "# Questions we want to answer\n",
    "\n",
    "It is good to look at the data before making any question. We have done that and want to figure out who survived or not the Titanic sinking.\n",
    "\n",
    "The question suggested by Udacity is something I myself thought of:\n",
    "- Which factors govern the chance of survival? We will attempt using machine learning to find out which variables above influenced the passengers survival. We will look at this at the end of the notebook.\n",
    "\n",
    "Before we attempt to utilize machine learning, we will try to find patters by analyzing the dataset using pandas and inferential statistics. Looking at the correlation matrix and pairplot, we have decided to take a closer look at these features and their influence on survival: \n",
    "\n",
    "1. **Pclass**: Did the socio-economic status have any effect on survival?\n",
    "2. **Age**: How about age? Where certain age groups more likely to survive?\n",
    "3. **Sex**: During the evacuation, where females preferred before men?\n",
    "4. **Fare**: Ticket fare is connected to pclass. But, the fares were different within each pclass as well. Maybe this was even more important?\n",
    "\n",
    "**Assumption: Assuming that survival was not by chance or luck.**"
   ]
  },
  {
   "cell_type": "markdown",
   "metadata": {},
   "source": [
    "## Pclass\n",
    "\n",
    "Let us look if we can find any inferences based on the passenger class"
   ]
  },
  {
   "cell_type": "code",
   "execution_count": 85,
   "metadata": {
    "collapsed": false
   },
   "outputs": [
    {
     "data": {
      "text/plain": [
       "<matplotlib.legend.Legend at 0x1655ef98>"
      ]
     },
     "execution_count": 85,
     "metadata": {},
     "output_type": "execute_result"
    },
    {
     "data": {
      "image/png": "[encoded data removed]",
      "text/plain": [
       "<matplotlib.figure.Figure at 0xe80fdd8>"
      ]
     },
     "metadata": {},
     "output_type": "display_data"
    }
   ],
   "source": [
    "# Calculate the percentage of total people in each pclass\n",
    "pclass_distribution = df.groupby('Pclass')['Survived'].count() / df.shape[0] * 100\n",
    "\n",
    "# Plot the data\n",
    "fig, axs = plt.subplots(1, 1, figsize=(6, 6))\n",
    "pclass_distribution.plot.pie(autopct='%.1f %%')\n",
    "plt.title('Distribution of people in each class')\n",
    "plt.ylabel('')\n",
    "plt.legend(loc=0, labels=['Pclass1', 'Pclass2', 'Pclass3'])"
   ]
  },
  {
   "cell_type": "markdown",
   "metadata": {},
   "source": [
    "Most of the passengers, around 50%, belonged to third class. The other half was evenly distributed between first and second class."
   ]
  },
  {
   "cell_type": "code",
   "execution_count": 86,
   "metadata": {
    "collapsed": false
   },
   "outputs": [
    {
     "data": {
      "text/plain": [
       "<matplotlib.text.Text at 0x12ab1438>"
      ]
     },
     "execution_count": 86,
     "metadata": {},
     "output_type": "execute_result"
    },
    {
     "data": {
      "image/png": "[encoded data removed]",
      "text/plain": [
       "<matplotlib.figure.Figure at 0xf6cd3c8>"
      ]
     },
     "metadata": {},
     "output_type": "display_data"
    }
   ],
   "source": [
    "# Ages in the different classes\n",
    "sns.boxplot(x='Pclass', y='Age', data=df)\n",
    "plt.title('Age distribution within each pclass')"
   ]
  },
  {
   "cell_type": "markdown",
   "metadata": {},
   "source": [
    "We see that for each pclass, the median age falls from 1st to 3rd class. Most rich people where in their 30-50 years, while the 3rd class passengers were mostly young people in their 20-30 years."
   ]
  },
  {
   "cell_type": "code",
   "execution_count": 87,
   "metadata": {
    "collapsed": false
   },
   "outputs": [
    {
     "data": {
      "text/plain": [
       "0.4044943820224719"
      ]
     },
     "execution_count": 87,
     "metadata": {},
     "output_type": "execute_result"
    }
   ],
   "source": [
    "# Mean survival for all passangers\n",
    "survival_mean = df['Survived'].mean()\n",
    "survival_mean"
   ]
  },
  {
   "cell_type": "code",
   "execution_count": 88,
   "metadata": {
    "collapsed": false
   },
   "outputs": [
    {
     "data": {
      "text/plain": [
       "Pclass\n",
       "1    0.652174\n",
       "2    0.479769\n",
       "3    0.239437\n",
       "Name: Survived, dtype: float64"
      ]
     },
     "execution_count": 88,
     "metadata": {},
     "output_type": "execute_result"
    }
   ],
   "source": [
    "# Mean survival based on pclass\n",
    "survival_class_means = df.groupby('Pclass')['Survived'].mean()\n",
    "survival_class_means"
   ]
  },
  {
   "cell_type": "markdown",
   "metadata": {},
   "source": [
    "Wow, here we see a great difference in the survival based on Pclass. Where the mean survival for our dataset is ~40%, when we look ath the pclasses, we se that pclass survival rate was:\n",
    "\n",
    "1. class: ~65 % \n",
    "2. class: ~48 %\n",
    "3. class: ~24 %\n",
    "\n",
    "From the data it seems that we have a correlation between pclass and survival. Let us perform a statistical test to see if this is correct:"
   ]
  },
  {
   "cell_type": "markdown",
   "metadata": {},
   "source": [
    "### Statistical test for Pclass vs Survival\n",
    "We want to see if there is evidence that passenger class has an effect on the survival rate. After searching on the forum I found that a **chi square $\\chi^2$ test of independence**  is a valid choice, see [here](https://discussions.udacity.com/t/titanic-dataset-which-test-for-survival-rate/163436). \n",
    "\n",
    "Information on performing the test is found [here](https://onlinecourses.science.psu.edu/stat200/node/73):\n",
    "\n",
    "#### 1. Check any necessary assumptions and write null and alternative hypotheses.\n",
    "\n",
    "**Assumptions**:\n",
    "- We have categorical variables, Survived (1 or 0) and Pclass (1, 2 or 3).\n",
    "- We are assuming that the people our dataset were randomly drawn from the entire dataset.\n",
    "- Our expected values are at least five (5).\n",
    "- Each individual is in one cell only in the contingency table.\n",
    "\n",
    "**Our hypothesis**:\n",
    "\n",
    "- $H_0$: Survival rate and pclass are independent, meaning that survival rate is around 40% for every pclass.\n",
    "- $H_a$: Survival rate is dependent on pclass.\n",
    "- $\\alpha$-value: 0.05, giving us a critical $\\chi^2_{crit} = 5.991$"
   ]
  },
  {
   "cell_type": "markdown",
   "metadata": {},
   "source": [
    "#### 2. Contingency table\n",
    "\n",
    "Creating the table using pandas crosstab. Found [here](http://hamelg.blogspot.no/2015/11/python-for-data-analysis-part-19_17.html):"
   ]
  },
  {
   "cell_type": "code",
   "execution_count": 89,
   "metadata": {
    "collapsed": false,
    "scrolled": true
   },
   "outputs": [
    {
     "data": {
      "text/html": [
       "<div>\n",
       "<table border=\"1\" class=\"dataframe\">\n",
       "  <thead>\n",
       "    <tr style=\"text-align: right;\">\n",
       "      <th></th>\n",
       "      <th>Pclass1</th>\n",
       "      <th>Pclass2</th>\n",
       "      <th>Pclass3</th>\n",
       "      <th>Row totals</th>\n",
       "    </tr>\n",
       "  </thead>\n",
       "  <tbody>\n",
       "    <tr>\n",
       "      <th>Died</th>\n",
       "      <td>64</td>\n",
       "      <td>90</td>\n",
       "      <td>270</td>\n",
       "      <td>424</td>\n",
       "    </tr>\n",
       "    <tr>\n",
       "      <th>Survived</th>\n",
       "      <td>120</td>\n",
       "      <td>83</td>\n",
       "      <td>85</td>\n",
       "      <td>288</td>\n",
       "    </tr>\n",
       "    <tr>\n",
       "      <th>Col. totals</th>\n",
       "      <td>184</td>\n",
       "      <td>173</td>\n",
       "      <td>355</td>\n",
       "      <td>712</td>\n",
       "    </tr>\n",
       "  </tbody>\n",
       "</table>\n",
       "</div>"
      ],
      "text/plain": [
       "             Pclass1  Pclass2  Pclass3  Row totals\n",
       "Died              64       90      270         424\n",
       "Survived         120       83       85         288\n",
       "Col. totals      184      173      355         712"
      ]
     },
     "execution_count": 89,
     "metadata": {},
     "output_type": "execute_result"
    }
   ],
   "source": [
    "# Find the number of people in each class that survived and did not\n",
    "contingency_table = pd.crosstab(index=df['Survived'], columns=df['Pclass'], margins=True)\n",
    "\n",
    "# Want to have these column and index names\n",
    "colnames = ['Pclass1', 'Pclass2', 'Pclass3', 'Row totals']\n",
    "rownames = ['Died', 'Survived', 'Col. totals']\n",
    "\n",
    "# Assign to the contingency_table\n",
    "contingency_table.columns = colnames\n",
    "contingency_table.index = rownames\n",
    "\n",
    "contingency_table"
   ]
  },
  {
   "cell_type": "markdown",
   "metadata": {},
   "source": [
    "#### Calculate the expected values\n",
    "\n",
    "The calculated expected value using this formula:\n",
    "\n",
    "$$E_{i, j} = \\frac{\\textrm{row total}_i \\cdot \\textrm{column total}_j }{n}$$\n",
    "\n",
    "Tips on how to calculate the expected values was found [here](http://hamelg.blogspot.no/2015/11/python-for-data-analysis-part-25-chi.html)."
   ]
  },
  {
   "cell_type": "code",
   "execution_count": 90,
   "metadata": {
    "collapsed": false
   },
   "outputs": [
    {
     "data": {
      "text/html": [
       "<div>\n",
       "<table border=\"1\" class=\"dataframe\">\n",
       "  <thead>\n",
       "    <tr style=\"text-align: right;\">\n",
       "      <th></th>\n",
       "      <th>Pclass1</th>\n",
       "      <th>Pclass2</th>\n",
       "      <th>Pclass3</th>\n",
       "    </tr>\n",
       "  </thead>\n",
       "  <tbody>\n",
       "    <tr>\n",
       "      <th>Died</th>\n",
       "      <td>109.573034</td>\n",
       "      <td>103.022472</td>\n",
       "      <td>211.404494</td>\n",
       "    </tr>\n",
       "    <tr>\n",
       "      <th>Survived</th>\n",
       "      <td>74.426966</td>\n",
       "      <td>69.977528</td>\n",
       "      <td>143.595506</td>\n",
       "    </tr>\n",
       "  </tbody>\n",
       "</table>\n",
       "</div>"
      ],
      "text/plain": [
       "             Pclass1     Pclass2     Pclass3\n",
       "Died      109.573034  103.022472  211.404494\n",
       "Survived   74.426966   69.977528  143.595506"
      ]
     },
     "execution_count": 90,
     "metadata": {},
     "output_type": "execute_result"
    }
   ],
   "source": [
    "# Calculating the outer product of: Row totals x Col.totals\n",
    "expected  = np.outer(contingency_table['Row totals'][:-1], contingency_table.ix['Col. totals'][:-1]) / contingency_table.iloc[-1, -1]\n",
    "# Creating a dataframe\n",
    "expected  = pd.DataFrame(expected)\n",
    "\n",
    "# Assign col. and row names as above\n",
    "expected.columns = colnames[:-1]\n",
    "expected.index = rownames[:-1]\n",
    "\n",
    "expected"
   ]
  },
  {
   "cell_type": "markdown",
   "metadata": {},
   "source": [
    "#### 2. Calculate the $\\chi^2$ statistic\n",
    "The $\\chi^2$-statistic is computed using equation:\n",
    "\n",
    "$$\\chi^2 = \\sum_{i=1}^{N} \\frac{(O_i-E_i)^2}{E_i}$$\n",
    "\n",
    "where:\n",
    "\n",
    "- $O_i$ : The observed number of people survived in class $i$.\n",
    "- $E_i$ : The excepted number of people survived in class $i$, when expecting a survival rate of 40.4%."
   ]
  },
  {
   "cell_type": "code",
   "execution_count": 91,
   "metadata": {
    "collapsed": false
   },
   "outputs": [
    {
     "data": {
      "text/plain": [
       "91.0807454879102"
      ]
     },
     "execution_count": 91,
     "metadata": {},
     "output_type": "execute_result"
    }
   ],
   "source": [
    "chi_square_statistic = ((contingency_table - expected)**2 / expected).sum().sum()\n",
    "chi_square_statistic"
   ]
  },
  {
   "cell_type": "markdown",
   "metadata": {},
   "source": [
    "#### Determine p-value\n",
    "\n",
    "We have two rows and three columns of variables. This means that we have $(2-1) \\cdot (3-1) = 2$ degrees of freedom. If we look at the [chi-square-table](http://sites.stat.psu.edu/~mga/401/tables/Chi-square-table.pdf), we find a p-value less than 0.005.\n",
    "\n",
    "#### Calculation check using scipy.stats"
   ]
  },
  {
   "cell_type": "code",
   "execution_count": 92,
   "metadata": {
    "collapsed": false
   },
   "outputs": [
    {
     "name": "stdout",
     "output_type": "stream",
     "text": [
      "91.0807454879\n",
      "1.28355016184e-19\n"
     ]
    }
   ],
   "source": [
    "# Check the chi-square using scipy\n",
    "from scipy.stats import chisquare\n",
    "\n",
    "# Create 1-D arrays of the expected and observed values\n",
    "f_obs = [x for row in contingency_table.values[0:2, 0:3] for x in row]\n",
    "f_exp = [x for row in expected.values for x in row]\n",
    "\n",
    "# Perform the test\n",
    "chi_statistic, pval = chisquare(f_obs, f_exp, ddof=2)\n",
    "\n",
    "print chi_statistic\n",
    "print pval"
   ]
  },
  {
   "cell_type": "markdown",
   "metadata": {},
   "source": [
    "We see that our scipy test gave same $\\chi^2$-statisic of 91.08. The p-value is really small, 1.28E-19!"
   ]
  },
  {
   "cell_type": "markdown",
   "metadata": {},
   "source": [
    "#### Conclusion\n",
    "\n",
    "The p-value is less than our $\\alpha$-level, meaning we can reject the null hypothesis. We have enough evidence showing that survival was dependent on passenger class."
   ]
  },
  {
   "cell_type": "markdown",
   "metadata": {},
   "source": [
    "## Age\n",
    "\n",
    "We will take a look of the age distribution using a histogram and a boxplot."
   ]
  },
  {
   "cell_type": "code",
   "execution_count": 93,
   "metadata": {
    "collapsed": false
   },
   "outputs": [
    {
     "data": {
      "text/plain": [
       "<matplotlib.text.Text at 0x1f435c88>"
      ]
     },
     "execution_count": 93,
     "metadata": {},
     "output_type": "execute_result"
    },
    {
     "data": {
      "image/png": "[encoded data removed]",
      "text/plain": [
       "<matplotlib.figure.Figure at 0x1f6c6cc0>"
      ]
     },
     "metadata": {},
     "output_type": "display_data"
    }
   ],
   "source": [
    "# Age distribution of all passangers\n",
    "fig, axs = plt.subplots(1, 2, figsize=(12, 4))\n",
    "# Plot of age dist.\n",
    "sns.distplot(df['Age'], kde=False, ax=axs[0])\n",
    "# Boxplot of age dist\n",
    "sns.boxplot(x='Age', data=df, ax=axs[1])\n",
    "\n",
    "# Ylabel for the histogram\n",
    "axs[0].set_ylabel('No. (-)')\n",
    "\n",
    "# One title for both plots\n",
    "plt.suptitle('Age distribution among passengers, using a histogram (left) and boxplot (right)')"
   ]
  },
  {
   "cell_type": "markdown",
   "metadata": {},
   "source": [
    "The plots above show us some interesting findings. Most of the people, belonging between the 25% - 75% quartiles, have an age of around 20-40 years. We see that there also are quite many children (below 5 years), while older people are less presents. Especially older than around 65 years, seen as the outliers in the box plot."
   ]
  },
  {
   "cell_type": "code",
   "execution_count": 95,
   "metadata": {
    "collapsed": false
   },
   "outputs": [
    {
     "data": {
      "text/plain": [
       "<matplotlib.text.Text at 0x1c88ea20>"
      ]
     },
     "execution_count": 95,
     "metadata": {},
     "output_type": "execute_result"
    },
    {
     "data": {
      "image/png": "[encoded data removed]",
      "text/plain": [
       "<matplotlib.figure.Figure at 0x1f47e908>"
      ]
     },
     "metadata": {},
     "output_type": "display_data"
    }
   ],
   "source": [
    "# Age distribution for each gender\n",
    "sns.distplot(df[df['Sex'] == 'male']['Age'], kde=True, hist=False, color='g', label='Men')\n",
    "sns.distplot(df[df['Sex'] == 'female']['Age'], kde=True, hist=False, color='b', label='Women')\n",
    "plt.xticks(np.arange(-20, 100, 10))\n",
    "\n",
    "# Labels\n",
    "plt.title('Age probability distribution')\n",
    "plt.ylabel('Probability (-)')"
   ]
  },
  {
   "cell_type": "markdown",
   "metadata": {},
   "source": [
    "The gender age distributions are quite similar. However, we see three differences:\n",
    "\n",
    "1. The men's distribution is more narrow. \n",
    "2. More children among women, than with men. I.e. age < 15.\n",
    "3. Both have a mode around 25 years.\n",
    "4. More elderly people among men, than among women."
   ]
  },
  {
   "cell_type": "code",
   "execution_count": 24,
   "metadata": {
    "collapsed": false
   },
   "outputs": [
    {
     "data": {
      "text/plain": [
       "0    19.0\n",
       "1    25.0\n",
       "2    28.0\n",
       "dtype: float64"
      ]
     },
     "execution_count": 24,
     "metadata": {},
     "output_type": "execute_result"
    }
   ],
   "source": [
    "# Men had actually three ages as mode.\n",
    "df[df['Sex'] == 'male']['Age'].mode()"
   ]
  },
  {
   "cell_type": "code",
   "execution_count": 25,
   "metadata": {
    "collapsed": false
   },
   "outputs": [
    {
     "data": {
      "text/plain": [
       "0    24.0\n",
       "dtype: float64"
      ]
     },
     "execution_count": 25,
     "metadata": {},
     "output_type": "execute_result"
    }
   ],
   "source": [
    "# Women's mode\n",
    "df[df['Sex'] == 'female']['Age'].mode()"
   ]
  },
  {
   "cell_type": "code",
   "execution_count": 26,
   "metadata": {
    "collapsed": false
   },
   "outputs": [
    {
     "data": {
      "text/plain": [
       "<matplotlib.legend.Legend at 0xf923a90>"
      ]
     },
     "execution_count": 26,
     "metadata": {},
     "output_type": "execute_result"
    },
    {
     "data": {
      "image/png": "[encoded data removed]",
      "text/plain": [
       "<matplotlib.figure.Figure at 0xf017438>"
      ]
     },
     "metadata": {},
     "output_type": "display_data"
    }
   ],
   "source": [
    "# Looking at the age distribution of people who survived and dies\n",
    "age_died = df[df['Survived'] == 0]['Age']\n",
    "age_survived = df[df['Survived'] == 1]['Age']\n",
    "\n",
    "# Create a plot\n",
    "sns.distplot(age_died, kde=True, hist=True, label='Died')\n",
    "sns.distplot(age_survived, kde=True, hist=True, label='Survived')\n",
    "plt.xticks(range(-20, 100, 10))\n",
    "plt.legend(loc=0)"
   ]
  },
  {
   "cell_type": "markdown",
   "metadata": {},
   "source": [
    "From the histograms above, we see that:\n",
    "- Children were prioritized, giving a multi-modal distribution (two peaks).\n",
    "- The distribution is more narrow for people who passed away.\n",
    "- Most probable death age was around 25 years."
   ]
  },
  {
   "cell_type": "markdown",
   "metadata": {},
   "source": [
    "### Survival rates\n",
    "In order to calculate the survival rates for the age, we will group them in ranges of **10 years**."
   ]
  },
  {
   "cell_type": "code",
   "execution_count": 99,
   "metadata": {
    "collapsed": false
   },
   "outputs": [
    {
     "data": {
      "text/plain": [
       "<matplotlib.text.Text at 0x14f6ef28>"
      ]
     },
     "execution_count": 99,
     "metadata": {},
     "output_type": "execute_result"
    },
    {
     "data": {
      "image/png": "[encoded data removed]",
      "text/plain": [
       "<matplotlib.figure.Figure at 0x1fcb6438>"
      ]
     },
     "metadata": {},
     "output_type": "display_data"
    }
   ],
   "source": [
    "# Using pandas cut function to group the age\n",
    "df['Binned_age'] = pd.cut(df.Age, bins=np.arange(0, 100, 10), right=True)\n",
    "df.groupby('Binned_age')['Survived'].mean().dropna().plot.barh()\n",
    "plt.xlabel('Survival rate (-)')\n",
    "plt.ylabel('Age group (years)')\n",
    "plt.title('Survival rate for various age groups')"
   ]
  },
  {
   "cell_type": "markdown",
   "metadata": {},
   "source": [
    "After binning the ages and plotting the survival rates, three different of ages vs survival rates may be identified visually:\n",
    "\n",
    "1. 60 - 80 years: Survival rate around 20%.\n",
    "2. 10 - 60 years: Survival rate around 40%.\n",
    "3.  0 - 10 years: Survival rate around 60%.\n",
    "\n",
    "There seems to be a correlation between children below 10 years and an increased survival rate."
   ]
  },
  {
   "cell_type": "code",
   "execution_count": 28,
   "metadata": {
    "collapsed": false
   },
   "outputs": [],
   "source": [
    "# Removed the binned ages\n",
    "del df['Binned_age']"
   ]
  },
  {
   "cell_type": "markdown",
   "metadata": {},
   "source": [
    "# Sex\n",
    "\n",
    "Let us look at the survival based on gender data"
   ]
  },
  {
   "cell_type": "code",
   "execution_count": 29,
   "metadata": {
    "collapsed": false
   },
   "outputs": [
    {
     "data": {
      "text/plain": [
       "male      63.623596\n",
       "female    36.376404\n",
       "Name: Sex, dtype: float64"
      ]
     },
     "execution_count": 29,
     "metadata": {},
     "output_type": "execute_result"
    }
   ],
   "source": [
    "# Number of man and women. Most where men:\n",
    "gender_counts = df.Sex.value_counts()\n",
    "\n",
    "# Calculate the percentage of the sexes\n",
    "gender_counts / df.shape[0] * 100"
   ]
  },
  {
   "cell_type": "code",
   "execution_count": 30,
   "metadata": {
    "collapsed": false
   },
   "outputs": [
    {
     "data": {
      "text/plain": [
       "<matplotlib.text.Text at 0x10ec51d0>"
      ]
     },
     "execution_count": 30,
     "metadata": {},
     "output_type": "execute_result"
    },
    {
     "data": {
      "image/png": "[encoded data removed]",
      "text/plain": [
       "<matplotlib.figure.Figure at 0xf7bbf60>"
      ]
     },
     "metadata": {},
     "output_type": "display_data"
    }
   ],
   "source": [
    "gender_counts.plot.barh()\n",
    "plt.title('Gender distribution')\n",
    "plt.xlabel('No. (-)')"
   ]
  },
  {
   "cell_type": "markdown",
   "metadata": {},
   "source": [
    "Most of the passengers were men. "
   ]
  },
  {
   "cell_type": "code",
   "execution_count": 31,
   "metadata": {
    "collapsed": false
   },
   "outputs": [
    {
     "data": {
      "text/plain": [
       "Sex     Survived\n",
       "female  0            64\n",
       "        1           195\n",
       "male    0           360\n",
       "        1            93\n",
       "Name: Pclass, dtype: int64"
      ]
     },
     "execution_count": 31,
     "metadata": {},
     "output_type": "execute_result"
    }
   ],
   "source": [
    "df.groupby(['Sex', 'Survived']).count()['Pclass']"
   ]
  },
  {
   "cell_type": "code",
   "execution_count": 32,
   "metadata": {
    "collapsed": false
   },
   "outputs": [
    {
     "data": {
      "text/plain": [
       "<matplotlib.text.Text at 0x111b6668>"
      ]
     },
     "execution_count": 32,
     "metadata": {},
     "output_type": "execute_result"
    },
    {
     "data": {
      "image/png": "[encoded data removed]",
      "text/plain": [
       "<matplotlib.figure.Figure at 0xfac95f8>"
      ]
     },
     "metadata": {},
     "output_type": "display_data"
    }
   ],
   "source": [
    "df.groupby(['Sex', 'Survived']).count()['Pclass'].unstack().plot.bar()\n",
    "plt.title('Survival data (0=died / 1=survived)')\n",
    "plt.ylabel('No (-)')"
   ]
  },
  {
   "cell_type": "markdown",
   "metadata": {},
   "source": [
    "The bar plot shows that most of the women survived, while most of the men did not."
   ]
  },
  {
   "cell_type": "markdown",
   "metadata": {},
   "source": [
    "### Survival rates\n",
    "\n",
    "Let us take a look on the survival rates between men and women, and also look how the different sexes managed in various pclasses also."
   ]
  },
  {
   "cell_type": "code",
   "execution_count": 33,
   "metadata": {
    "collapsed": false
   },
   "outputs": [
    {
     "data": {
      "text/plain": [
       "Sex\n",
       "female    0.752896\n",
       "male      0.205298\n",
       "Name: Survived, dtype: float64"
      ]
     },
     "execution_count": 33,
     "metadata": {},
     "output_type": "execute_result"
    }
   ],
   "source": [
    "# Survival looking only on gender differences\n",
    "df.groupby('Sex')['Survived'].mean()"
   ]
  },
  {
   "cell_type": "markdown",
   "metadata": {},
   "source": [
    "From the table above, we a large difference in survival rates between genders. Overall, women had almost four times (~3.75) better chance to survive the sinking. "
   ]
  },
  {
   "cell_type": "code",
   "execution_count": 69,
   "metadata": {
    "collapsed": false
   },
   "outputs": [
    {
     "data": {
      "text/plain": [
       "Pclass  Sex\n",
       "1       0      0.963855\n",
       "        1      0.396040\n",
       "2       0      0.918919\n",
       "        1      0.151515\n",
       "3       0      0.460784\n",
       "        1      0.150198\n",
       "Name: Survived, dtype: float64"
      ]
     },
     "execution_count": 69,
     "metadata": {},
     "output_type": "execute_result"
    }
   ],
   "source": [
    "# Pclass and gender combination\n",
    "class_gender = df.groupby(['Pclass', 'Sex'])['Survived'].mean()\n",
    "# Print the numerical values\n",
    "class_gender"
   ]
  },
  {
   "cell_type": "code",
   "execution_count": 100,
   "metadata": {
    "collapsed": false
   },
   "outputs": [
    {
     "data": {
      "text/plain": [
       "<matplotlib.text.Text at 0x1c723978>"
      ]
     },
     "execution_count": 100,
     "metadata": {},
     "output_type": "execute_result"
    },
    {
     "data": {
      "image/png": "[encoded data removed]",
      "text/plain": [
       "<matplotlib.figure.Figure at 0x12cc89b0>"
      ]
     },
     "metadata": {},
     "output_type": "display_data"
    }
   ],
   "source": [
    "class_gender.unstack().plot.bar()\n",
    "plt.title('Survival rates vs pclass. Female=0, Male=1')\n",
    "plt.ylabel('Survival rate (-)')"
   ]
  },
  {
   "cell_type": "markdown",
   "metadata": {},
   "source": [
    "Incredible! Overall, women had a 75.3% survival rate compared to only 20.5% in men. That is a huge difference! Looking more closely on the different pclasses, we see large variations from class to class. Almost all women in first class survived, with an astonishing survival rate of 96.4%. Women's survival rate in the second class was extremely good as well, at 91.9%. Slightly lower that the class above. In contrast, third class women did not experience the same level of survival. The drop is large, and only 46.1% survived, indicating the great importance of which pclass people belonged to.\n",
    "\n",
    "The men in the finest class had a survival rate at 39.6%. This is twice as good as the overall survival rate for men, and two and a half times as good than men in second and third class, 15.2% and 15.0% respectively. For men, only first class indicates that it had any effect. Men in classes 2 and 3 experience similar fates."
   ]
  },
  {
   "cell_type": "markdown",
   "metadata": {},
   "source": [
    "## Fare"
   ]
  },
  {
   "cell_type": "code",
   "execution_count": 71,
   "metadata": {
    "collapsed": false
   },
   "outputs": [
    {
     "name": "stdout",
     "output_type": "stream",
     "text": [
      "count    288.000000\n",
      "mean      51.647672\n",
      "std       70.664499\n",
      "min        0.000000\n",
      "25%       13.000000\n",
      "50%       26.250000\n",
      "75%       65.000000\n",
      "max      512.329200\n",
      "Name: Fare, dtype: float64\n",
      "count    424.000000\n",
      "mean      22.965456\n",
      "std       31.448825\n",
      "min        0.000000\n",
      "25%        7.895800\n",
      "50%       11.887500\n",
      "75%       26.550000\n",
      "max      263.000000\n",
      "Name: Fare, dtype: float64\n"
     ]
    }
   ],
   "source": [
    "fares_survivors = df[df['Survived'] == 1]['Fare']\n",
    "fares_dead = df[df['Survived'] == 0]['Fare']\n",
    "\n",
    "print fares_survivors.describe()\n",
    "print fares_dead.describe()"
   ]
  },
  {
   "cell_type": "code",
   "execution_count": 72,
   "metadata": {
    "collapsed": false
   },
   "outputs": [
    {
     "data": {
      "text/plain": [
       "<matplotlib.text.Text at 0xf5a6400>"
      ]
     },
     "execution_count": 72,
     "metadata": {},
     "output_type": "execute_result"
    },
    {
     "data": {
      "image/png": "[encoded data removed]",
      "text/plain": [
       "<matplotlib.figure.Figure at 0x130e56a0>"
      ]
     },
     "metadata": {},
     "output_type": "display_data"
    }
   ],
   "source": [
    "sns.boxplot(x='Survived', y='Fare', data=df, hue='Survived')\n",
    "plt.title('Fare among dead=0, survived=1')"
   ]
  },
  {
   "cell_type": "markdown",
   "metadata": {},
   "source": [
    "From the box-plot, we see that the survivors in general had more expensive tickets. However, it is not easy to look at this plot because of the great outlier in the survived group at around 500.\n",
    "\n",
    "Let us look at the ratio on some of the parameters when we use the describe() method:"
   ]
  },
  {
   "cell_type": "code",
   "execution_count": 38,
   "metadata": {
    "collapsed": false
   },
   "outputs": [
    {
     "data": {
      "text/plain": [
       "mean    2.248929\n",
       "25%     1.646445\n",
       "50%     2.208202\n",
       "75%     2.448211\n",
       "max     1.948020\n",
       "Name: Fare, dtype: float64"
      ]
     },
     "execution_count": 38,
     "metadata": {},
     "output_type": "execute_result"
    }
   ],
   "source": [
    "(fares_survivors.describe() / fares_dead.describe()).drop(['count', 'std', 'min'])"
   ]
  },
  {
   "cell_type": "markdown",
   "metadata": {},
   "source": [
    "Here we see that the surviving people had in general double the fare ticket."
   ]
  },
  {
   "cell_type": "code",
   "execution_count": 39,
   "metadata": {
    "collapsed": false
   },
   "outputs": [
    {
     "data": {
      "text/plain": [
       "<matplotlib.text.Text at 0xf909710>"
      ]
     },
     "execution_count": 39,
     "metadata": {},
     "output_type": "execute_result"
    },
    {
     "data": {
      "image/png": "[encoded data removed]",
      "text/plain": [
       "<matplotlib.figure.Figure at 0x111b6ac8>"
      ]
     },
     "metadata": {},
     "output_type": "display_data"
    }
   ],
   "source": [
    "fig = plt.figure()\n",
    "sns.distplot(fares_survivors, kde=True, hist=False, label='Survivors')\n",
    "sns.distplot(fares_dead, kde=True, hist=False, label='Non-survivors')\n",
    "plt.legend(loc=0)\n",
    "plt.xlim([0, 100]) # Look at the majority of the people\n",
    "plt.xticks(np.arange(0, 110, 10)) # Create ticks to easier read peak x-values.\n",
    "\n",
    "plt.title('Fare distribution')\n",
    "plt.ylabel('Probability (-)')"
   ]
  },
  {
   "cell_type": "markdown",
   "metadata": {},
   "source": [
    "From the plot above, we see a great difference in the probability distribution for the two groups. What stands out is the great peak at a fare of around 10 for the non-survivors. This indicates that ticket fare had a great impact on the survival rate. "
   ]
  },
  {
   "cell_type": "markdown",
   "metadata": {},
   "source": [
    "### Survival rates\n",
    "We will try to calculate the survival the different age groups. To get a good overview, we will bin the fares in prices of 50. This will give us a good understanding of how survival rate differs in the different fare groups."
   ]
  },
  {
   "cell_type": "code",
   "execution_count": 40,
   "metadata": {
    "collapsed": false
   },
   "outputs": [
    {
     "data": {
      "text/plain": [
       "<matplotlib.text.Text at 0x11beb470>"
      ]
     },
     "execution_count": 40,
     "metadata": {},
     "output_type": "execute_result"
    },
    {
     "data": {
      "image/png": "[encoded data removed]",
      "text/plain": [
       "<matplotlib.figure.Figure at 0x11744128>"
      ]
     },
     "metadata": {},
     "output_type": "display_data"
    }
   ],
   "source": [
    "# First lets look at fares to see if we have many outliers which will give us bins with NaN values\n",
    "sns.boxplot(x='Fare', data=df)\n",
    "plt.title('Fare distribution')"
   ]
  },
  {
   "cell_type": "markdown",
   "metadata": {},
   "source": [
    "The boxplot shows that we will get many NaN values when binning the fares. The reason is because of the large jump in fares at some prices. We see a huge jump in fare price from around 270-280 to above 500. We will therefore remove the NaN values when grouping survival rate for the different fare bins. This will give us some jumps from some bins to others when plotting."
   ]
  },
  {
   "cell_type": "code",
   "execution_count": 41,
   "metadata": {
    "collapsed": false
   },
   "outputs": [],
   "source": [
    "binsize = 50\n",
    "df['Binned_fare'] = pd.cut(df['Fare'], bins=np.arange(0, df['Fare'].max()+binsize, binsize), right=False)\n",
    "# right=False because we want to know fares as [from, to)"
   ]
  },
  {
   "cell_type": "code",
   "execution_count": 42,
   "metadata": {
    "collapsed": false
   },
   "outputs": [],
   "source": [
    "# Grouping the fares and removing NaN bins\n",
    "fare_group = df.groupby('Binned_fare')['Survived'].mean().dropna()"
   ]
  },
  {
   "cell_type": "code",
   "execution_count": 43,
   "metadata": {
    "collapsed": false
   },
   "outputs": [
    {
     "data": {
      "text/plain": [
       "Binned_fare\n",
       "[0, 50)       0.333333\n",
       "[50, 100)     0.681818\n",
       "[100, 150)    0.761905\n",
       "[150, 200)    0.666667\n",
       "[200, 250)    0.777778\n",
       "[250, 300)    0.666667\n",
       "[500, 550)    1.000000\n",
       "Name: Survived, dtype: float64"
      ]
     },
     "execution_count": 43,
     "metadata": {},
     "output_type": "execute_result"
    }
   ],
   "source": [
    "# Look at the binned fare survival rate data\n",
    "fare_group"
   ]
  },
  {
   "cell_type": "code",
   "execution_count": 44,
   "metadata": {
    "collapsed": false
   },
   "outputs": [
    {
     "data": {
      "text/plain": [
       "[0, 50)       80.898876\n",
       "[50, 100)     12.359551\n",
       "[100, 150)     2.949438\n",
       "[200, 250)     1.264045\n",
       "[150, 200)     1.264045\n",
       "[250, 300)     0.842697\n",
       "[500, 550)     0.421348\n",
       "[450, 500)     0.000000\n",
       "[400, 450)     0.000000\n",
       "[350, 400)     0.000000\n",
       "[300, 350)     0.000000\n",
       "dtype: float64"
      ]
     },
     "execution_count": 44,
     "metadata": {},
     "output_type": "execute_result"
    }
   ],
   "source": [
    "# Percentage of people in the different fare bins\n",
    "df['Binned_fare'].value_counts() * 100 / df.shape[0]"
   ]
  },
  {
   "cell_type": "code",
   "execution_count": 101,
   "metadata": {
    "collapsed": false
   },
   "outputs": [
    {
     "data": {
      "text/plain": [
       "<matplotlib.text.Text at 0x12982cc0>"
      ]
     },
     "execution_count": 101,
     "metadata": {},
     "output_type": "execute_result"
    },
    {
     "data": {
      "image/png": "[encoded data removed]",
      "text/plain": [
       "<matplotlib.figure.Figure at 0x128c8f28>"
      ]
     },
     "metadata": {},
     "output_type": "display_data"
    }
   ],
   "source": [
    "fare_group.plot.barh()\n",
    "plt.title('Survival rate in different fare bins')\n",
    "plt.ylabel('Fare bins (-)')\n",
    "plt.xlabel('Survival rate (-)')"
   ]
  },
  {
   "cell_type": "markdown",
   "metadata": {},
   "source": [
    "The bar plot illustrates that that the survival rate (33.3%) was lowest for people with low fare tickets, below 50. The other groups, except the highest fare group, had quite similar survival rates, between 66.7% to 77.8%. The highest group (500-550), which consisted of three persons, had a survival rate of 100%. "
   ]
  },
  {
   "cell_type": "markdown",
   "metadata": {},
   "source": [
    "# Testing out Machine Learning \n",
    "\n",
    "Let us now test out a machine learning algorithm to find out which features were most likely to play part in the survival outcome. I have no experience within machine learning, but have a great wish to learn more about it.\n",
    "\n",
    "The test and execution is influenced and based on:\n",
    "\n",
    "- [Random Forest Benchmark at Kaggle](https://www.kaggle.com/benhamner/titanic/random-forest-benchmark-r)\n",
    "- [NORTHWESTERN UNIVERSITY](http://saenorthwestern.com/Titanic/)\n",
    "- [DataSchool](http://www.dataschool.io/machine-learning-with-scikit-learn/)"
   ]
  },
  {
   "cell_type": "markdown",
   "metadata": {},
   "source": [
    "We want to change all non-numerical values to numerical in order to apply machine learning algorithms.\n",
    "\n",
    "Altering the values like this:\n",
    "\n",
    "|   Numerical value   | Sex    | Port    |\n",
    "| ---- | ------ | ----    |\n",
    "|    0 | Male   | S       |\n",
    "|    1 | Female | C       |\n",
    "|    2 |        | Q       |"
   ]
  },
  {
   "cell_type": "code",
   "execution_count": 46,
   "metadata": {
    "collapsed": false
   },
   "outputs": [
    {
     "data": {
      "text/html": [
       "<div>\n",
       "<table border=\"1\" class=\"dataframe\">\n",
       "  <thead>\n",
       "    <tr style=\"text-align: right;\">\n",
       "      <th></th>\n",
       "      <th>Survived</th>\n",
       "      <th>Pclass</th>\n",
       "      <th>Sex</th>\n",
       "      <th>Age</th>\n",
       "      <th>SibSp</th>\n",
       "      <th>Parch</th>\n",
       "      <th>Fare</th>\n",
       "      <th>Embarked</th>\n",
       "      <th>Binned_fare</th>\n",
       "    </tr>\n",
       "  </thead>\n",
       "  <tbody>\n",
       "    <tr>\n",
       "      <th>0</th>\n",
       "      <td>0</td>\n",
       "      <td>3</td>\n",
       "      <td>1</td>\n",
       "      <td>22.0</td>\n",
       "      <td>1</td>\n",
       "      <td>0</td>\n",
       "      <td>7.2500</td>\n",
       "      <td>0</td>\n",
       "      <td>[0, 50)</td>\n",
       "    </tr>\n",
       "    <tr>\n",
       "      <th>1</th>\n",
       "      <td>1</td>\n",
       "      <td>1</td>\n",
       "      <td>0</td>\n",
       "      <td>38.0</td>\n",
       "      <td>1</td>\n",
       "      <td>0</td>\n",
       "      <td>71.2833</td>\n",
       "      <td>1</td>\n",
       "      <td>[50, 100)</td>\n",
       "    </tr>\n",
       "    <tr>\n",
       "      <th>2</th>\n",
       "      <td>1</td>\n",
       "      <td>3</td>\n",
       "      <td>0</td>\n",
       "      <td>26.0</td>\n",
       "      <td>0</td>\n",
       "      <td>0</td>\n",
       "      <td>7.9250</td>\n",
       "      <td>0</td>\n",
       "      <td>[0, 50)</td>\n",
       "    </tr>\n",
       "    <tr>\n",
       "      <th>3</th>\n",
       "      <td>1</td>\n",
       "      <td>1</td>\n",
       "      <td>0</td>\n",
       "      <td>35.0</td>\n",
       "      <td>1</td>\n",
       "      <td>0</td>\n",
       "      <td>53.1000</td>\n",
       "      <td>0</td>\n",
       "      <td>[50, 100)</td>\n",
       "    </tr>\n",
       "    <tr>\n",
       "      <th>4</th>\n",
       "      <td>0</td>\n",
       "      <td>3</td>\n",
       "      <td>1</td>\n",
       "      <td>35.0</td>\n",
       "      <td>0</td>\n",
       "      <td>0</td>\n",
       "      <td>8.0500</td>\n",
       "      <td>0</td>\n",
       "      <td>[0, 50)</td>\n",
       "    </tr>\n",
       "  </tbody>\n",
       "</table>\n",
       "</div>"
      ],
      "text/plain": [
       "   Survived  Pclass  Sex   Age  SibSp  Parch     Fare  Embarked Binned_fare\n",
       "0         0       3    1  22.0      1      0   7.2500         0     [0, 50)\n",
       "1         1       1    0  38.0      1      0  71.2833         1   [50, 100)\n",
       "2         1       3    0  26.0      0      0   7.9250         0     [0, 50)\n",
       "3         1       1    0  35.0      1      0  53.1000         0   [50, 100)\n",
       "4         0       3    1  35.0      0      0   8.0500         0     [0, 50)"
      ]
     },
     "execution_count": 46,
     "metadata": {},
     "output_type": "execute_result"
    }
   ],
   "source": [
    "df['Sex'] = df['Sex'].map( {'female': 0, 'male': 1} ).astype(int)\n",
    "df['Embarked'] = df['Embarked'].map( {'S': 0, 'C': 1, 'Q': 2}).astype(int)\n",
    "\n",
    "df.head()"
   ]
  },
  {
   "cell_type": "markdown",
   "metadata": {},
   "source": [
    "## Features and target variable"
   ]
  },
  {
   "cell_type": "code",
   "execution_count": 47,
   "metadata": {
    "collapsed": false
   },
   "outputs": [],
   "source": [
    "# Feature matrix (X)\n",
    "features = ['Pclass', 'Sex', 'Age', 'SibSp', 'Parch', 'Fare', 'Embarked']\n",
    "X = df[features]\n",
    "\n",
    "# Target array (y)\n",
    "y = df['Survived']"
   ]
  },
  {
   "cell_type": "code",
   "execution_count": 48,
   "metadata": {
    "collapsed": false
   },
   "outputs": [
    {
     "name": "stdout",
     "output_type": "stream",
     "text": [
      "(712, 7)\n",
      "(712L,)\n"
     ]
    }
   ],
   "source": [
    "# Check the size of X and y. Important to be correct!\n",
    "print X.shape\n",
    "print y.shape"
   ]
  },
  {
   "cell_type": "markdown",
   "metadata": {},
   "source": [
    "## Set up training and testing sets\n",
    "\n",
    "40 % of the data will be used for training. The random_state is set to 10, such that the sets are the same every time."
   ]
  },
  {
   "cell_type": "code",
   "execution_count": 49,
   "metadata": {
    "collapsed": false
   },
   "outputs": [],
   "source": [
    "from sklearn.cross_validation import train_test_split\n",
    "from sklearn import metrics\n",
    "\n",
    "# Set up test and train data. Set a random_state to have the same testing dat\n",
    "X_train, X_test, y_train, y_test = train_test_split(X, y, test_size=0.4, random_state=10)"
   ]
  },
  {
   "cell_type": "code",
   "execution_count": 50,
   "metadata": {
    "collapsed": false
   },
   "outputs": [
    {
     "data": {
      "text/html": [
       "<div>\n",
       "<table border=\"1\" class=\"dataframe\">\n",
       "  <thead>\n",
       "    <tr style=\"text-align: right;\">\n",
       "      <th></th>\n",
       "      <th>Pclass</th>\n",
       "      <th>Sex</th>\n",
       "      <th>Age</th>\n",
       "      <th>SibSp</th>\n",
       "      <th>Parch</th>\n",
       "      <th>Fare</th>\n",
       "      <th>Embarked</th>\n",
       "    </tr>\n",
       "  </thead>\n",
       "  <tbody>\n",
       "    <tr>\n",
       "      <th>166</th>\n",
       "      <td>1</td>\n",
       "      <td>1</td>\n",
       "      <td>40.0</td>\n",
       "      <td>0</td>\n",
       "      <td>0</td>\n",
       "      <td>31.0000</td>\n",
       "      <td>1</td>\n",
       "    </tr>\n",
       "    <tr>\n",
       "      <th>410</th>\n",
       "      <td>2</td>\n",
       "      <td>0</td>\n",
       "      <td>34.0</td>\n",
       "      <td>0</td>\n",
       "      <td>0</td>\n",
       "      <td>10.5000</td>\n",
       "      <td>0</td>\n",
       "    </tr>\n",
       "    <tr>\n",
       "      <th>647</th>\n",
       "      <td>3</td>\n",
       "      <td>1</td>\n",
       "      <td>39.0</td>\n",
       "      <td>0</td>\n",
       "      <td>0</td>\n",
       "      <td>24.1500</td>\n",
       "      <td>0</td>\n",
       "    </tr>\n",
       "    <tr>\n",
       "      <th>83</th>\n",
       "      <td>3</td>\n",
       "      <td>1</td>\n",
       "      <td>38.0</td>\n",
       "      <td>0</td>\n",
       "      <td>0</td>\n",
       "      <td>7.8958</td>\n",
       "      <td>0</td>\n",
       "    </tr>\n",
       "    <tr>\n",
       "      <th>688</th>\n",
       "      <td>2</td>\n",
       "      <td>1</td>\n",
       "      <td>24.0</td>\n",
       "      <td>0</td>\n",
       "      <td>0</td>\n",
       "      <td>13.0000</td>\n",
       "      <td>0</td>\n",
       "    </tr>\n",
       "  </tbody>\n",
       "</table>\n",
       "</div>"
      ],
      "text/plain": [
       "     Pclass  Sex   Age  SibSp  Parch     Fare  Embarked\n",
       "166       1    1  40.0      0      0  31.0000         1\n",
       "410       2    0  34.0      0      0  10.5000         0\n",
       "647       3    1  39.0      0      0  24.1500         0\n",
       "83        3    1  38.0      0      0   7.8958         0\n",
       "688       2    1  24.0      0      0  13.0000         0"
      ]
     },
     "execution_count": 50,
     "metadata": {},
     "output_type": "execute_result"
    }
   ],
   "source": [
    "X_train.head()"
   ]
  },
  {
   "cell_type": "markdown",
   "metadata": {},
   "source": [
    "## Algorithm: Random Forest Classifier\n",
    "\n",
    "Have constrained the algorithm to use same random_state, such that the output is similar for every Random Forest run."
   ]
  },
  {
   "cell_type": "code",
   "execution_count": 51,
   "metadata": {
    "collapsed": false
   },
   "outputs": [
    {
     "name": "stdout",
     "output_type": "stream",
     "text": [
      "[0.8, 0.785965, 0.803509, 0.807018, 0.807018, 0.807018]\n"
     ]
    }
   ],
   "source": [
    "from sklearn.ensemble import RandomForestClassifier\n",
    "\n",
    "def run_random_forest(X_train, X_test, y_train, y_test, n_est):\n",
    "    \"\"\"\n",
    "    Function to test how the number of trees effects the accuracy on this data set.\n",
    "    \"\"\"\n",
    "    rand_forest = RandomForestClassifier(n_estimators=n_est, random_state=10)\n",
    "    rand_forest.fit(X_train, y_train)\n",
    "    y_pred = rand_forest.predict(X_test)\n",
    "    # Accuracy of the model\n",
    "    return round(metrics.accuracy_score(y_test, y_pred), 6) \n",
    "\n",
    "# Number of trees testing set\n",
    "ntrees = [10, 100, 500, 1000, 5000, 10000]\n",
    "\n",
    "# Checking the accuracy for different number of trees \n",
    "accuracy = [run_random_forest(X_train, X_test, y_train, y_test, n_est=nt) for nt in ntrees]\n",
    "print accuracy"
   ]
  },
  {
   "cell_type": "markdown",
   "metadata": {},
   "source": [
    "The result demonstrates a peak value for number of trees between 500-1000 trees. The results are similar to what the guys \n",
    "at the [NORTHWESTERN UNIVERSITY](http://saenorthwestern.com/Titanic/). "
   ]
  },
  {
   "cell_type": "code",
   "execution_count": 52,
   "metadata": {
    "collapsed": false
   },
   "outputs": [
    {
     "data": {
      "text/plain": [
       "<matplotlib.text.Text at 0x12399240>"
      ]
     },
     "execution_count": 52,
     "metadata": {},
     "output_type": "execute_result"
    },
    {
     "data": {
      "image/png": "[encoded data removed]",
      "text/plain": [
       "<matplotlib.figure.Figure at 0x121de0b8>"
      ]
     },
     "metadata": {},
     "output_type": "display_data"
    }
   ],
   "source": [
    "plt.plot(ntrees, accuracy, \"-o\")\n",
    "plt.xlabel('Number of trees (-)')\n",
    "plt.ylabel('Prediction accuracy (-)')"
   ]
  },
  {
   "cell_type": "markdown",
   "metadata": {},
   "source": [
    "Let use the Random Forest with 500 trees. We want to find out which parameters are most influential \n",
    "with respect to survival."
   ]
  },
  {
   "cell_type": "code",
   "execution_count": 53,
   "metadata": {
    "collapsed": false
   },
   "outputs": [
    {
     "data": {
      "text/plain": [
       "RandomForestClassifier(bootstrap=True, class_weight=None, criterion='gini',\n",
       "            max_depth=None, max_features='auto', max_leaf_nodes=None,\n",
       "            min_samples_leaf=1, min_samples_split=2,\n",
       "            min_weight_fraction_leaf=0.0, n_estimators=500, n_jobs=1,\n",
       "            oob_score=False, random_state=10, verbose=0, warm_start=False)"
      ]
     },
     "execution_count": 53,
     "metadata": {},
     "output_type": "execute_result"
    }
   ],
   "source": [
    "rand_forest = RandomForestClassifier(n_estimators=500, random_state=10)\n",
    "rand_forest.fit(X_train, y_train)"
   ]
  },
  {
   "cell_type": "code",
   "execution_count": 54,
   "metadata": {
    "collapsed": true
   },
   "outputs": [],
   "source": [
    "def get_feature_mappings(features):\n",
    "    \"\"\"\n",
    "    Create an integer id for every feature used in the Random Forest calculation.\n",
    "    \"\"\"\n",
    "    out = {}\n",
    "    for i, f in enumerate(features):\n",
    "        out[i] = f\n",
    "    return out       \n",
    "\n",
    "def connect_feature_to_importance(row, feature_mappings):\n",
    "    \"\"\"\n",
    "    Connect the feature id from Random Forest output to the feature name.\n",
    "    \"\"\"\n",
    "    return feature_mappings[row.name]"
   ]
  },
  {
   "cell_type": "code",
   "execution_count": 55,
   "metadata": {
    "collapsed": false
   },
   "outputs": [
    {
     "data": {
      "text/plain": [
       "{0: 'Pclass',\n",
       " 1: 'Sex',\n",
       " 2: 'Age',\n",
       " 3: 'SibSp',\n",
       " 4: 'Parch',\n",
       " 5: 'Fare',\n",
       " 6: 'Embarked'}"
      ]
     },
     "execution_count": 55,
     "metadata": {},
     "output_type": "execute_result"
    }
   ],
   "source": [
    "# Create the mapping\n",
    "feature_mapping = get_feature_mappings(X.keys())\n",
    "\n",
    "feature_mapping"
   ]
  },
  {
   "cell_type": "code",
   "execution_count": 56,
   "metadata": {
    "collapsed": false
   },
   "outputs": [
    {
     "data": {
      "text/html": [
       "<div>\n",
       "<table border=\"1\" class=\"dataframe\">\n",
       "  <thead>\n",
       "    <tr style=\"text-align: right;\">\n",
       "      <th></th>\n",
       "      <th>Importance</th>\n",
       "      <th>Feature</th>\n",
       "    </tr>\n",
       "  </thead>\n",
       "  <tbody>\n",
       "    <tr>\n",
       "      <th>2</th>\n",
       "      <td>0.294387</td>\n",
       "      <td>Age</td>\n",
       "    </tr>\n",
       "    <tr>\n",
       "      <th>5</th>\n",
       "      <td>0.258295</td>\n",
       "      <td>Fare</td>\n",
       "    </tr>\n",
       "    <tr>\n",
       "      <th>1</th>\n",
       "      <td>0.241297</td>\n",
       "      <td>Sex</td>\n",
       "    </tr>\n",
       "    <tr>\n",
       "      <th>0</th>\n",
       "      <td>0.083583</td>\n",
       "      <td>Pclass</td>\n",
       "    </tr>\n",
       "    <tr>\n",
       "      <th>3</th>\n",
       "      <td>0.049696</td>\n",
       "      <td>SibSp</td>\n",
       "    </tr>\n",
       "    <tr>\n",
       "      <th>4</th>\n",
       "      <td>0.038726</td>\n",
       "      <td>Parch</td>\n",
       "    </tr>\n",
       "    <tr>\n",
       "      <th>6</th>\n",
       "      <td>0.034016</td>\n",
       "      <td>Embarked</td>\n",
       "    </tr>\n",
       "  </tbody>\n",
       "</table>\n",
       "</div>"
      ],
      "text/plain": [
       "   Importance   Feature\n",
       "2    0.294387       Age\n",
       "5    0.258295      Fare\n",
       "1    0.241297       Sex\n",
       "0    0.083583    Pclass\n",
       "3    0.049696     SibSp\n",
       "4    0.038726     Parch\n",
       "6    0.034016  Embarked"
      ]
     },
     "execution_count": 56,
     "metadata": {},
     "output_type": "execute_result"
    }
   ],
   "source": [
    "# Create dataframe with the feature importance results\n",
    "df_fi = pd.DataFrame({'Importance' : rand_forest.feature_importances_})\n",
    "\n",
    "# Connect the feature name to importance\n",
    "df_fi['Feature'] = df_fi.apply(lambda row: connect_feature_to_importance(row, feature_mapping), axis=1)\n",
    "\n",
    "# Sort the dataframe\n",
    "df_fi.sort_values(by='Importance', ascending=False, inplace=True)\n",
    "\n",
    "df_fi"
   ]
  },
  {
   "cell_type": "code",
   "execution_count": 57,
   "metadata": {
    "collapsed": false
   },
   "outputs": [
    {
     "data": {
      "text/plain": [
       "<matplotlib.text.Text at 0x12b8ca20>"
      ]
     },
     "execution_count": 57,
     "metadata": {},
     "output_type": "execute_result"
    },
    {
     "data": {
      "image/png": "[encoded data removed]",
      "text/plain": [
       "<matplotlib.figure.Figure at 0x361f390>"
      ]
     },
     "metadata": {},
     "output_type": "display_data"
    }
   ],
   "source": [
    "sns.barplot(x='Feature', y='Importance', data=df_fi)\n",
    "plt.ylabel('Importance')"
   ]
  },
  {
   "cell_type": "markdown",
   "metadata": {},
   "source": [
    "From above, we notice that the most important parameters from our analysis are: \n",
    "\n",
    "- Sex\n",
    "- Age\n",
    "- Fare\n",
    "\n",
    "It is strange that Pclass got such a low importance. Looking at https://www.kaggle.com/c/titanic/forums/t/13390/introducing-kaggle-scripts, Pclass should have had a higher score. However, the reason is explained on http://saenorthwestern.com/Titanic/. In the latter, we see a similar feature importance results. However, after binning the Fare and Age, they get a slightly higher feature importance for the Pclass. "
   ]
  },
  {
   "cell_type": "markdown",
   "metadata": {},
   "source": [
    "## Random Forest by class\n",
    "Let us take a look if different parameters played a part in the different pclasses. "
   ]
  },
  {
   "cell_type": "code",
   "execution_count": 58,
   "metadata": {
    "collapsed": true
   },
   "outputs": [],
   "source": [
    "def random_forest_feature_importance(df):\n",
    "    # Set up the feature matrix and target variable\n",
    "    features = ['Pclass', 'Sex', 'Age', 'SibSp', 'Parch', 'Embarked']\n",
    "    X = df[features]\n",
    "    y = df['Survived']\n",
    "    \n",
    "    X_train, X_test, y_train, y_test = train_test_split(X, y, test_size=0.33, random_state=10)\n",
    "    rand_forest_clf = RandomForestClassifier(n_estimators=100, random_state=10)\n",
    "    rand_forest_clf.fit(X_train, y_train)\n",
    "    y_pred = rand_forest_clf.predict(X_test)\n",
    "    \n",
    "    return rand_forest_clf.feature_importances_, metrics.accuracy_score(y_test, y_pred)\n",
    "    "
   ]
  },
  {
   "cell_type": "code",
   "execution_count": 59,
   "metadata": {
    "collapsed": false
   },
   "outputs": [
    {
     "name": "stdout",
     "output_type": "stream",
     "text": [
      "First class accuracy: 0.738\n",
      "Second class accuracy: 0.862\n",
      "Third class accuracy: 0.720\n"
     ]
    }
   ],
   "source": [
    "# First class\n",
    "first_class_feature_importance, accuracy = random_forest_feature_importance(df[df['Pclass'] == 1])\n",
    "print \"First class accuracy: {0:.3f}\".format(accuracy)\n",
    "\n",
    "# Second class\n",
    "second_class_feature_importance, accuracy = random_forest_feature_importance(df[df['Pclass'] == 2])\n",
    "print \"Second class accuracy: {0:.3f}\".format(accuracy)\n",
    "\n",
    "# Third class\n",
    "third_class_feature_importance, accuracy = random_forest_feature_importance(df[df['Pclass'] == 3])\n",
    "print \"Third class accuracy: {0:.3f}\".format(accuracy)"
   ]
  },
  {
   "cell_type": "markdown",
   "metadata": {},
   "source": [
    "After testing out different parameters, these were chosen at the end:\n",
    "\n",
    "- test_size (33% of sample)\n",
    "- random_state (10)\n",
    "- n_estimators (100)\n",
    "\n",
    "The predicted accuracy shown in the cell above for each class. Quite interesting findings actually. It is most simple to predict second class passengers when looking on one class at the time.\n",
    "\n",
    "Let us take a a look which features played a role in the class survival:"
   ]
  },
  {
   "cell_type": "code",
   "execution_count": 60,
   "metadata": {
    "collapsed": false
   },
   "outputs": [
    {
     "data": {
      "text/plain": [
       "<matplotlib.text.Text at 0x13850160>"
      ]
     },
     "execution_count": 60,
     "metadata": {},
     "output_type": "execute_result"
    },
    {
     "data": {
      "image/png": "[encoded data removed]",
      "text/plain": [
       "<matplotlib.figure.Figure at 0x12779cc0>"
      ]
     },
     "metadata": {},
     "output_type": "display_data"
    }
   ],
   "source": [
    "# Create a dataframe with the passanger class feature importances\n",
    "df_pclass_feature_importances = pd.DataFrame({'first_class' : first_class_feature_importance,\n",
    "                                             'second_class' : second_class_feature_importance,\n",
    "                                             'third_class' : third_class_feature_importance})\n",
    "\n",
    "# Add a column connecting the feature id's to the feature name\n",
    "df_pclass_feature_importances['Feature'] = \\\n",
    "df_pclass_feature_importances.apply(lambda row: connect_feature_to_importance(row, feature_mapping), axis=1)\n",
    "\n",
    "# Use feature name as columns\n",
    "df_pclass_feature_importances.set_index('Feature', inplace=True)\n",
    "\n",
    "# Since we are looking on feature importance on each pclass, the pclass feature itself is zero\n",
    "# and can be disregarded.\n",
    "df_pclass_feature_importances.drop('Pclass', inplace=True)\n",
    "\n",
    "df_pclass_feature_importances\n",
    "\n",
    "# Look at\n",
    "df_pclass_feature_importances.plot.bar()\n",
    "plt.ylabel('Feature importance')"
   ]
  },
  {
   "cell_type": "markdown",
   "metadata": {},
   "source": [
    "Very interesting results. When we look on which features are important for each passenger class, we see:\n",
    "\n",
    "1. Sex is important for 1. and 2. class.\n",
    "2. Age is very important for 1. and 3. class, and slightly less for 2. class.\n",
    "3. Fare is not important at all when the passenger classes are analyzed separately."
   ]
  },
  {
   "cell_type": "code",
   "execution_count": 61,
   "metadata": {
    "collapsed": false
   },
   "outputs": [
    {
     "data": {
      "text/plain": [
       "<matplotlib.axes._subplots.AxesSubplot at 0x1389c7f0>"
      ]
     },
     "execution_count": 61,
     "metadata": {},
     "output_type": "execute_result"
    },
    {
     "data": {
      "image/png": "[encoded data removed]",
      "text/plain": [
       "<matplotlib.figure.Figure at 0x127644e0>"
      ]
     },
     "metadata": {},
     "output_type": "display_data"
    }
   ],
   "source": [
    "# Survival by Sex in different groups\n",
    "df.groupby(['Pclass', 'Survived', 'Sex'])['Sex'].count().unstack().plot.bar()"
   ]
  },
  {
   "cell_type": "markdown",
   "metadata": {},
   "source": [
    "The chart above is a good example why sex is important in pclass 1 and 2, but was not so important in class 3. In both pclass 1 and 2, see that almost none of the women in those classes died. The blue bars are almost not see for the people who died in those classes. However, in pclass 3, we see an almost same amount of women dying and surviving. "
   ]
  },
  {
   "cell_type": "markdown",
   "metadata": {},
   "source": [
    "# Conclusion\n",
    "\n",
    "The Titanic dataset demonstrates interesting findings when investigated. The passengers were spread in different passengers classes with different fare tickets, age was spread from around 0 to 80 years. 64 % of the passengers were men. The overall survival rate of these individuals was found to be around 40 %, meaning that most did not survive. We performed calculations on the survival rate investigating how some variables affected the chance of survival. The variables we looked at were:\n",
    "\n",
    "- Passenger class (pclass)\n",
    "- Age\n",
    "- Gender\n",
    "- Fare\n",
    "\n",
    "Firstly, we started out with data from 891 passengers. However, after cleaning the data and removing rows containing NaN values, we were left with 712 people. Thus, our analysis was affected by this and the. Also, not all possible variables were analyzed, such as the number of sibling, parents or children and title. These may have an effect on the survival rates which are found. Also, many other things can have played a role in the survival, such as plain luck, or maybe ethnicity? Some people were near to the life boats when the ship started sinking and consequently had a better survival rate. These are lurking variables which are not taken into account in our analysis.\n",
    "\n",
    "\n",
    "## Pclass\n",
    "The data demonstrated a correlation between pclass and survival rate, with survival rates of 65%, 48% and 24% for pclass 1, 2 and 3. A $\\chi^2$-test with $\\alpha$-level of 0.05 was performed. Calculated p-value was 1.28E-19, giving us enough evidence implying that pclass was important for survival.\n",
    "\n",
    "## Age\n",
    "In order to get an easier understanding of the survival rate and age, we binned the age in groups of 10 years. The findings showed similar survival rates for three distinct groups: \n",
    "- ~20 % survival rate for age group 60 - 80 years\n",
    "- ~40 % survival rate for age group 10 - 60 years\n",
    "- ~60 % survival rate for age group  0 - 10 years.\n",
    "\n",
    "The data exhibits a correlation between young children and survival.\n",
    "\n",
    "\n",
    "## Gender\n",
    "Our analysis shows a correlation between females and a good survival rate. Looking only on gender, 75.2 % of females survived, compared to only 20.5 % seen with the male passengers. However, large fluctuations were seen when looking at gender within the different pclasses. Females in pclass 1 and 2 had a survival rate of 96.4 % and 91.9 %, respectively. On the other hand, females in the lowest class, 3. class, suffered greater losses, with a drop in survival rate to 46.1 %. Male passengers traveling in the finest class experienced a survival rate of 39.6 %, while men in the two other classes survived in small numbers with a survival rate around 15 %.\n",
    "\n",
    "\n",
    "## Fare\n",
    "\n",
    "Fare tickets were binned in prices of 50, and a bar plot illustrating the survival rate was created. It shows that passengers in the lowest fare group, 0-50, had the lowest survival rate of 33.3%. A distribution of the non-surviving passengers fare ticket, demonstrates a peak at a fare of 10. The other fare groups had survival rates ranging from 66.7 to 77.8 %. The highest fare group, 500-550, had a survival rate of 100 %. However, the group consisted of only three persons. The majority (80.9 %) of Titanic's passengers belonged to the lowest fare group.\n",
    "\n",
    "\n",
    "## Ideas for further analysis\n",
    "If further analyses were to be performed, we would have looked at the entire passenger list to get more correct values. Also, instead of removing NaN-values, we could have imputed missing values. For example, missing age values could have been assigned with the median values. Also, it would have been interesting to perform analyses using machine learning to see if any other insights could have been found."
   ]
  },
  {
   "cell_type": "markdown",
   "metadata": {
    "collapsed": true
   },
   "source": [
    "# References\n",
    "\n",
    "- http://www.analyticsvidhya.com/blog/2016/01/12-pandas-techniques-python-data-manipulation/\n",
    "- http://pbpython.com/simple-graphing-pandas.html\n",
    "- https://stanford.edu/~mwaskom/software/seaborn/generated/seaborn.pairplot.html\n",
    "- http://saenorthwestern.com/Titanic/\n",
    "- https://www.kaggle.com/c/titanic/forums/t/13390/introducing-kaggle-scripts\n",
    "- http://scikit-learn.org/stable/modules/generated/sklearn.ensemble.RandomForestClassifier.html\n",
    "- http://trevorstephens.com/kaggle-titanic-tutorial/r-part-3-decision-trees/\n",
    "- http://www.kdnuggets.com/2016/07/titanic-machine-learning-guide-part-1.html\n",
    "- http://www.kdnuggets.com/2016/07/titanic-machine-learning-guide-part-2.html\n",
    "- http://www.kdnuggets.com/2016/07/titanic-machine-learning-guide-part-3.html"
   ]
  }
 ],
 "metadata": {
  "kernelspec": {
   "display_name": "Python 2",
   "language": "python",
   "name": "python2"
  },
  "language_info": {
   "codemirror_mode": {
    "name": "ipython",
    "version": 2
   },
   "file_extension": ".py",
   "mimetype": "text/x-python",
   "name": "python",
   "nbconvert_exporter": "python",
   "pygments_lexer": "ipython2",
   "version": "2.7.11"
  }
 },
 "nbformat": 4,
 "nbformat_minor": 0
}

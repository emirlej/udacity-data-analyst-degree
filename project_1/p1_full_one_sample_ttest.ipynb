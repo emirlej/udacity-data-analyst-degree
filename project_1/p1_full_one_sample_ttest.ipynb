{
 "cells": [
  {
   "cell_type": "code",
   "execution_count": 8,
   "metadata": {
    "collapsed": true
   },
   "outputs": [],
   "source": [
    "# Imports\n",
    "import numpy as np\n",
    "import math\n",
    "from scipy import stats\n",
    "from __future__ import division\n",
    "%matplotlib inline"
   ]
  },
  {
   "cell_type": "markdown",
   "metadata": {},
   "source": [
    "US families spent on avg. 151 $ per week on food in 2012 (Gallup). \n",
    "\n",
    "What is the dependant variable?\n",
    "- type of food purchased?\n",
    "- $ spent per week on food? --> (correct answer)\n",
    "- members of the co-op?\n",
    "- cost-saving program? --> Treatment. What we're trying to implement so people can save money.\n",
    "\n",
    "Choose best H0:\n",
    "- The program did not change the cost of food.\n",
    "Alternative hypo, Ha:\n",
    "- The program reduced the cost of food.\n",
    "\n",
    "<b>Setting up the hypo:</b>\n",
    "\n",
    "- $H_0 : \\mu_{prog} \\geq 151 \\$ $\n",
    "\n",
    "- $H_a : \\mu_{prog} < 151 \\$ $\n",
    "\n",
    "--> This gives us a one-tailed test in negative direction"
   ]
  },
  {
   "cell_type": "code",
   "execution_count": 14,
   "metadata": {
    "collapsed": false
   },
   "outputs": [],
   "source": [
    "# Input parameters\n",
    "mu = 151\n",
    "s = 50\n",
    "n = 25\n",
    "df = n - 1\n",
    "sx = s / math.sqrt(n)\n",
    "xbar = 126\n",
    "mean_diff = xbar - mu\n",
    "\n",
    "# Negative alpha = .05. ppf: Percent point function (inverse of cdf — percentiles).\n",
    "t_crit = -round(stats.t.ppf(1-0.05, 24), 3)"
   ]
  },
  {
   "cell_type": "code",
   "execution_count": 19,
   "metadata": {
    "collapsed": false
   },
   "outputs": [
    {
     "name": "stdout",
     "output_type": "stream",
     "text": [
      "-2.5\n",
      "0.00982708755829\n",
      "-0.5\n",
      "0.206611570248\n"
     ]
    }
   ],
   "source": [
    "# t statistic\n",
    "tstat = mean_diff / sx\n",
    "print tstat\n",
    "print stats.t.cdf(-2.5, df=24)\n",
    "cohens_d = mean_diff / s\n",
    "print cohens_d\n",
    "rsq = tstat**2 / (tstat**2 + df)\n",
    "print rsq"
   ]
  },
  {
   "cell_type": "code",
   "execution_count": 25,
   "metadata": {
    "collapsed": false
   },
   "outputs": [
    {
     "name": "stdout",
     "output_type": "stream",
     "text": [
      "2.064\n",
      "[105.36, 146.64]\n"
     ]
    }
   ],
   "source": [
    "# Two tailed CI\n",
    "a = 0.05\n",
    "tcrit = round(stats.t.ppf(1 - a/2, df), 3)\n",
    "print tcrit\n",
    "print [xbar + i*(tcrit*sx) for i in (-1, 1)]"
   ]
  }
 ],
 "metadata": {
  "kernelspec": {
   "display_name": "Python 2",
   "language": "python",
   "name": "python2"
  },
  "language_info": {
   "codemirror_mode": {
    "name": "ipython",
    "version": 2
   },
   "file_extension": ".py",
   "mimetype": "text/x-python",
   "name": "python",
   "nbconvert_exporter": "python",
   "pygments_lexer": "ipython2",
   "version": "2.7.11"
  }
 },
 "nbformat": 4,
 "nbformat_minor": 0
}

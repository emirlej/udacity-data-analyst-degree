{
 "cells": [
  {
   "cell_type": "code",
   "execution_count": 1,
   "metadata": {
    "collapsed": true
   },
   "outputs": [],
   "source": [
    "# Imports\n",
    "import pandas as pd\n",
    "import numpy as np\n",
    "import matplotlib.pyplot as plt\n",
    "import scipy.stats as stats\n",
    "from __future__ import division\n",
    "import seaborn as sns\n",
    "sns.set(color_codes=True)\n",
    "\n",
    "%matplotlib inline"
   ]
  },
  {
   "cell_type": "markdown",
   "metadata": {},
   "source": [
    "# Background information\n",
    "\n",
    "In a Stroop task, participants are presented with a list of words, with each word displayed in a color of ink. The participant’s task is to say out loud the color of the ink in which the word is printed. The task has two conditions: a congruent words condition, and an incongruent words condition. In the congruent words condition, the words being displayed are color words whose names match the colors in which they are printed: for example RED, BLUE. In the incongruent words condition, the words displayed are color words whose names do not match the colors in which they are printed: for example PURPLE, ORANGE. In each case, we measure the time it takes to name the ink colors in equally-sized lists. Each participant will go through and record a time from each condition."
   ]
  },
  {
   "cell_type": "markdown",
   "metadata": {},
   "source": [
    "## Q1: What is our independent variable? What is our dependent variable?\n",
    "\n",
    "The independent variable is whether the word name and color are the same or different. Level of measurement is word-color match, or word-color mismatch. Time it takes going through a list of words is dependent on word-color matching or not. <b>(Ref. /1/)</b>"
   ]
  },
  {
   "cell_type": "markdown",
   "metadata": {},
   "source": [
    "## Q2: What is an appropriate set of hypotheses for this task? What kind of statistical test do you expect to perform? Justify your choices.\n",
    "\n",
    "- An appropriate hypothesis for this task is that there is no difference in response time between the two type of word-color lists. \n",
    "- A way of testing this is to create multiple, equally long lists of words which are:\n",
    "    - Case a): word-color match (congruent); you have to answer the color which is written.\n",
    "    - Case b): word-color mismatch (incongruent); one has to answer the color of the letters, not the written word itself.\n",
    "\n",
    "Then collect the time used going through these lists.\n",
    "\n",
    "### Appropriate hypothesis:\n",
    "$T_a$: Average time to go through case a lists. $T_b$: Average time to go through case b lists.\n",
    "\n",
    "- $H_0: T_a - T_b \\geq 0$\n",
    "- $H_a: T_a - T_b < 0 $\n",
    "\n",
    "I would perform a one-tailed test with a-level of 0.05 to conclude that it is statistically significant that $T_a$ is less than $T_b$. Choosing a smaller a-level of 0.01 or 0.001 may also be adequate. However, the test is not that crucial and the already performed experiments show that $T_a$ is smaller than $T_b$.\n",
    "\n",
    "\n"
   ]
  },
  {
   "cell_type": "markdown",
   "metadata": {},
   "source": [
    "# Stroop experiment results\n",
    "\n",
    "## Q3: Report some descriptive statistics regarding this dataset. Include at least one measure of central tendency and at least one measure of variability."
   ]
  },
  {
   "cell_type": "code",
   "execution_count": 2,
   "metadata": {
    "collapsed": false
   },
   "outputs": [
    {
     "data": {
      "text/html": [
       "<div>\n",
       "<table border=\"1\" class=\"dataframe\">\n",
       "  <thead>\n",
       "    <tr style=\"text-align: right;\">\n",
       "      <th></th>\n",
       "      <th>Congruent</th>\n",
       "      <th>Incongruent</th>\n",
       "    </tr>\n",
       "  </thead>\n",
       "  <tbody>\n",
       "    <tr>\n",
       "      <th>0</th>\n",
       "      <td>12.079</td>\n",
       "      <td>19.278</td>\n",
       "    </tr>\n",
       "    <tr>\n",
       "      <th>1</th>\n",
       "      <td>16.791</td>\n",
       "      <td>18.741</td>\n",
       "    </tr>\n",
       "    <tr>\n",
       "      <th>2</th>\n",
       "      <td>9.564</td>\n",
       "      <td>21.214</td>\n",
       "    </tr>\n",
       "    <tr>\n",
       "      <th>3</th>\n",
       "      <td>8.630</td>\n",
       "      <td>15.687</td>\n",
       "    </tr>\n",
       "    <tr>\n",
       "      <th>4</th>\n",
       "      <td>14.669</td>\n",
       "      <td>22.803</td>\n",
       "    </tr>\n",
       "  </tbody>\n",
       "</table>\n",
       "</div>"
      ],
      "text/plain": [
       "   Congruent  Incongruent\n",
       "0     12.079       19.278\n",
       "1     16.791       18.741\n",
       "2      9.564       21.214\n",
       "3      8.630       15.687\n",
       "4     14.669       22.803"
      ]
     },
     "execution_count": 2,
     "metadata": {},
     "output_type": "execute_result"
    }
   ],
   "source": [
    "# Load the Stroop csv file\n",
    "df = pd.read_csv(\"stroopdata.csv\")\n",
    "df.head()"
   ]
  },
  {
   "cell_type": "code",
   "execution_count": 3,
   "metadata": {
    "collapsed": false
   },
   "outputs": [
    {
     "data": {
      "text/html": [
       "<div>\n",
       "<table border=\"1\" class=\"dataframe\">\n",
       "  <thead>\n",
       "    <tr style=\"text-align: right;\">\n",
       "      <th></th>\n",
       "      <th>Congruent</th>\n",
       "      <th>Incongruent</th>\n",
       "    </tr>\n",
       "  </thead>\n",
       "  <tbody>\n",
       "    <tr>\n",
       "      <th>count</th>\n",
       "      <td>24.000000</td>\n",
       "      <td>24.000000</td>\n",
       "    </tr>\n",
       "    <tr>\n",
       "      <th>mean</th>\n",
       "      <td>14.051125</td>\n",
       "      <td>22.015917</td>\n",
       "    </tr>\n",
       "    <tr>\n",
       "      <th>std</th>\n",
       "      <td>3.559358</td>\n",
       "      <td>4.797057</td>\n",
       "    </tr>\n",
       "    <tr>\n",
       "      <th>min</th>\n",
       "      <td>8.630000</td>\n",
       "      <td>15.687000</td>\n",
       "    </tr>\n",
       "    <tr>\n",
       "      <th>25%</th>\n",
       "      <td>11.895250</td>\n",
       "      <td>18.716750</td>\n",
       "    </tr>\n",
       "    <tr>\n",
       "      <th>50%</th>\n",
       "      <td>14.356500</td>\n",
       "      <td>21.017500</td>\n",
       "    </tr>\n",
       "    <tr>\n",
       "      <th>75%</th>\n",
       "      <td>16.200750</td>\n",
       "      <td>24.051500</td>\n",
       "    </tr>\n",
       "    <tr>\n",
       "      <th>max</th>\n",
       "      <td>22.328000</td>\n",
       "      <td>35.255000</td>\n",
       "    </tr>\n",
       "  </tbody>\n",
       "</table>\n",
       "</div>"
      ],
      "text/plain": [
       "       Congruent  Incongruent\n",
       "count  24.000000    24.000000\n",
       "mean   14.051125    22.015917\n",
       "std     3.559358     4.797057\n",
       "min     8.630000    15.687000\n",
       "25%    11.895250    18.716750\n",
       "50%    14.356500    21.017500\n",
       "75%    16.200750    24.051500\n",
       "max    22.328000    35.255000"
      ]
     },
     "execution_count": 3,
     "metadata": {},
     "output_type": "execute_result"
    }
   ],
   "source": [
    "# Show some stats about the results\n",
    "df.describe()"
   ]
  },
  {
   "cell_type": "markdown",
   "metadata": {},
   "source": [
    "### Central tendency measures:\n",
    "From the table above, we see that the <b>mean values for congruent and incongruent are 14.05 [s] and 22.02 [s]</b>, respectively. The difference in mean is roughly 8 [s], which is quite significant. We would need to perform a t-test to confirm that the difference is not by chance. Also, we see that for both conditions, the mean and median are near each other. The median values are listed in the 50% row above."
   ]
  },
  {
   "cell_type": "code",
   "execution_count": 4,
   "metadata": {
    "collapsed": false
   },
   "outputs": [
    {
     "data": {
      "text/plain": [
       "<matplotlib.text.Text at 0x9eb6ac8>"
      ]
     },
     "execution_count": 4,
     "metadata": {},
     "output_type": "execute_result"
    },
    {
     "data": {
      "image/png": "[encoded data removed]",
      "text/plain": [
       "<matplotlib.figure.Figure at 0x4106da0>"
      ]
     },
     "metadata": {},
     "output_type": "display_data"
    }
   ],
   "source": [
    "ax = sns.boxplot(data=df, orient=\"horizontal\")\n",
    "ax.set_xlabel(\"Time(s)\")"
   ]
  },
  {
   "cell_type": "markdown",
   "metadata": {},
   "source": [
    "### Variability \n",
    "From the describe-table and the box plots, it is demonstrated that variability is greater for the incongruent case. The standard deviations are:\n",
    "\n",
    "- congruent: 3.6 [s]\n",
    "- incongruent: \t4.8 [s]\n",
    "\n",
    "The greater variability for the incongruent case is further illustrated by the outliers in the box plot. This may indicate that there are larger differences in evaluating colors in the population, than reading text. "
   ]
  },
  {
   "cell_type": "markdown",
   "metadata": {},
   "source": [
    "## Q4: Provide one or two visualizations that show the distribution of the sample data. Write one or two sentences noting what you observe about the plot or plots.\n",
    "\n",
    "However, from the histogram plot below, it seems that the data is \"tighter\" for the incongruent case, if we neglect the outliers. This is also seen by the box plot above. The box plot itself is broader for the congruent case. The outliers are easily seen as \"alone\" in the upper part of the incongruent case.\n",
    "\n",
    "The histogram for the congruent case looks like a slightly right skewed normal distribution. The incongruent is quite uniform on the left part, then has a high peak, and then drops significantly. The outliers introduce another peak right in the distribution. However, the look of the distribution changes dramatically when the bin number is altered. "
   ]
  },
  {
   "cell_type": "code",
   "execution_count": 5,
   "metadata": {
    "collapsed": false
   },
   "outputs": [
    {
     "data": {
      "text/plain": [
       "<matplotlib.text.Text at 0xa104b70>"
      ]
     },
     "execution_count": 5,
     "metadata": {},
     "output_type": "execute_result"
    },
    {
     "data": {
      "text/plain": [
       "<matplotlib.figure.Figure at 0xa0dd8d0>"
      ]
     },
     "metadata": {},
     "output_type": "display_data"
    },
    {
     "data": {
      "image/png": "[encoded data removed]",
      "text/plain": [
       "<matplotlib.figure.Figure at 0xa104c50>"
      ]
     },
     "metadata": {},
     "output_type": "display_data"
    }
   ],
   "source": [
    "fig = plt.figure()\n",
    "pd.DataFrame.hist(df, alpha=0.5, bins=8, sharey=True)\n",
    "plt.suptitle(\"Histogram with counts\")"
   ]
  },
  {
   "cell_type": "markdown",
   "metadata": {},
   "source": [
    "We can also create plots of histograms together with a fitted distribution:"
   ]
  },
  {
   "cell_type": "code",
   "execution_count": 6,
   "metadata": {
    "collapsed": false
   },
   "outputs": [
    {
     "data": {
      "image/png": "[encoded data removed]",
      "text/plain": [
       "<matplotlib.figure.Figure at 0xa5a2198>"
      ]
     },
     "metadata": {},
     "output_type": "display_data"
    }
   ],
   "source": [
    "# Set up the matplotlib figure\n",
    "f, (ax1, ax2) = plt.subplots(1, 2, figsize=(7, 7), sharex=False, sharey=True)\n",
    "sns.despine(left=True)\n",
    "\n",
    "# Plot a simple histogram with binsize determined automatically\n",
    "sns.distplot(df[\"Congruent\"], bins=8, ax=ax1)\n",
    "                \n",
    "# Plot a simple histogram with binsize determined automatically\n",
    "sns.distplot(df[\"Incongruent\"], bins=8, color=\"r\", ax=ax2)\n",
    "\n",
    "plt.tight_layout()\n",
    "\n",
    "# This way of plotting was found at ref. /3/."
   ]
  },
  {
   "cell_type": "markdown",
   "metadata": {},
   "source": [
    "We see from the two distribution plots above, and the fitted kernel density estimation, that the congruent is a bit right-skewed normal distribution. The incongruent case indicates a multi-modal distribution, due to the outliers. "
   ]
  },
  {
   "cell_type": "markdown",
   "metadata": {},
   "source": [
    "## Q5. Now, perform the statistical test and report your results. What is your confidence level and your critical statistic value? Do you reject the null hypothesis or fail to reject it? Come to a conclusion in terms of the experiment task. Did the results match up with your expectations?\n",
    "\n",
    "### Means, stds and ratio:"
   ]
  },
  {
   "cell_type": "code",
   "execution_count": 7,
   "metadata": {
    "collapsed": false
   },
   "outputs": [
    {
     "name": "stdout",
     "output_type": "stream",
     "text": [
      "14.051125 22.0159166667\n",
      "3.55935795765 4.79705712247\n",
      "Ratio stds: 1.34773 \n"
     ]
    }
   ],
   "source": [
    "df_con = df[\"Congruent\"]\n",
    "df_incon = df[\"Incongruent\"]\n",
    "\n",
    "# Mean values\n",
    "mu_con, mu_incon = df_con.mean(), df_incon.mean()\n",
    "# Standard deviations\n",
    "s_con, s_incon = df_con.std(), df_incon.std()\n",
    "\n",
    "print mu_con, mu_incon\n",
    "print s_con, s_incon\n",
    "\n",
    "# Ratio between the std \n",
    "print \"Ratio stds: %g \" % (s_incon/s_con)"
   ]
  },
  {
   "cell_type": "markdown",
   "metadata": {},
   "source": [
    "From <b>ref. /2/</b>, it is said that we can use pooled variance: <u>\"If the two standard deviations are similar (neither is more than twice of the other), then the pooled standard error is used\"</u>. <b>We have a ratio of ~1.35</b>, meaning that we can calculate the pooled standard error.\n",
    "\n",
    "Pooled std. is found by equation:\n",
    "\n",
    "$$sp = \\sqrt{\\frac{SS_1 + SS_2}{df_1 + df_2}}$$\n",
    "\n",
    "### Pooled standard deviation"
   ]
  },
  {
   "cell_type": "code",
   "execution_count": 8,
   "metadata": {
    "collapsed": false
   },
   "outputs": [
    {
     "name": "stdout",
     "output_type": "stream",
     "text": [
      "4.22378894518\n"
     ]
    }
   ],
   "source": [
    "# Pooled standard error calculation\n",
    "SS_con = sum([(x - mu_con)**2 for x in df_con])\n",
    "SS_incon = sum([(x - mu_incon)**2 for x in df_incon])\n",
    "# Degrees of freedom. OBS do not use dataframe variable, df!\n",
    "dof_con = df_con.count() - 1\n",
    "dof_incon = df_incon.count() - 1\n",
    "\n",
    "sp = np.sqrt((SS_con + SS_incon) / (dof_con + dof_incon))\n",
    "print sp"
   ]
  },
  {
   "cell_type": "markdown",
   "metadata": {},
   "source": [
    "### Testing the hypothesis\n",
    "We will now perform the hypothesis test, which was assigned in Q2 above.\n",
    "\n",
    "\n",
    "$$H_0: \\mu_{con} - \\mu_{incon} \\geq 0$$\n",
    "$$H_a: \\mu_{con} - \\mu_{incon} < 0 $$\n",
    "\n",
    "$\\alpha$-level of 0.05. Based on the alternative hypo. the test is left-tailed. "
   ]
  },
  {
   "cell_type": "code",
   "execution_count": 9,
   "metadata": {
    "collapsed": false
   },
   "outputs": [
    {
     "name": "stdout",
     "output_type": "stream",
     "text": [
      "Critical t-stat: -1.67866\n",
      "Sample t-stat: -6.53225\n"
     ]
    }
   ],
   "source": [
    "# Critical t-stat\n",
    "alpha = 0.05\n",
    "dof = dof_incon + dof_con\n",
    "t_crit = -stats.t.ppf(1 - alpha, dof)\n",
    "print \"Critical t-stat: %g\" % t_crit\n",
    "\n",
    "# Standard error\n",
    "SE = np.sqrt((sp**2)/df_con.count() + (sp**2)/df_incon.count())\n",
    "# Calculate the sample t-stat\n",
    "t_stat = (mu_con - mu_incon) / SE\n",
    "print \"Sample t-stat: %g\" % t_stat"
   ]
  },
  {
   "cell_type": "markdown",
   "metadata": {},
   "source": [
    "We see that the calculated t-stat significantly smaller than t-crit, which means that we can reject null hypo. with a $p \\leq 0.05$. \n",
    "\n",
    "### Confidece interval\n",
    "A 95% confidence interval between the mean difference will be constructed. Since the incongruent average time is greatest, the difference evaluated will be: $\\mu_d = \\mu_{incon} - \\mu_{con}$. We used a directional t-test previously, so we need to calculate a new, two-tailed t-crit for the confidence interval.\n",
    "\n",
    "We will use the pooled standard error $S_{\\bar{x}-\\bar{y}}$ to calculate the confidence interval:\n",
    "\n",
    "$$\\mu_d \\pm t \\cdot S_{\\bar{x}-\\bar{y}}$$\n",
    "\n",
    "where,\n",
    "\n",
    "$$S_{\\bar{x}-\\bar{y}} = \\sqrt{\\frac{s_p^2}{n_1} + \\frac{s_p^2}{n_2}}$$ "
   ]
  },
  {
   "cell_type": "code",
   "execution_count": 10,
   "metadata": {
    "collapsed": false
   },
   "outputs": [
    {
     "name": "stdout",
     "output_type": "stream",
     "text": [
      "T-crit: 2.0129\n",
      "mu_d: 7.96479\n",
      "CI: [5.51046234617, 10.4191209872]\n"
     ]
    }
   ],
   "source": [
    "# The difference \n",
    "mu_d = mu_incon - mu_con\n",
    "# 95% confidence interval\n",
    "alpha = 0.05\n",
    "# Two tailed now\n",
    "t_crit = stats.t.ppf(1 - alpha/2, dof)\n",
    "print \"T-crit: %g\" % t_crit\n",
    "\n",
    "# Calculate the confidence interval for the mean difference\n",
    "conf_int = [(mu_d + (t_crit*SE) * n) for n in (-1, 1)]\n",
    "\n",
    "print \"mu_d: %g\" % mu_d\n",
    "print \"CI: [%s]\" % \", \".join([str(ci) for ci in conf_int])"
   ]
  },
  {
   "cell_type": "markdown",
   "metadata": {},
   "source": [
    "We have now calculated a 95% CI for the mean difference. It is positive, between <b>5.5 - 10.2 [s]</b>. This also supports our hypothesis test, as the CI-values are above zero. This illustrates that people have more difficulties interpreting color, than words. \n",
    "\n",
    "### Comparing my results \n",
    "The results when I undertook the Stroop experiment are listed below. I tested both sets (#1 and #2) two times. One can see that the time was reduced for the second try. "
   ]
  },
  {
   "cell_type": "code",
   "execution_count": 11,
   "metadata": {
    "collapsed": false
   },
   "outputs": [
    {
     "name": "stdout",
     "output_type": "stream",
     "text": [
      "12.705 20.798 8.093\n"
     ]
    }
   ],
   "source": [
    "congruent = [15.639, 9.771]\n",
    "incongruent = [23.596, 18.0]\n",
    "\n",
    "mu_con, mu_incon = np.mean(congruent), np.mean(incongruent)\n",
    "print mu_con, mu_incon, mu_incon-mu_con"
   ]
  },
  {
   "cell_type": "markdown",
   "metadata": {},
   "source": [
    "Both average time values, $\\mu_{con}$ and $mu_{incon}$, indicate that my results lie in the most probable area if we look at the plotted probability distributions above. Also, the my difference lies within the calculated confidence interval. "
   ]
  },
  {
   "cell_type": "markdown",
   "metadata": {},
   "source": [
    "### Conclusion\n",
    "A statistical test was performed demonstrating human ability to process words and color. The processing was evaluated using equally long list of words with word-color match, and no word-color match. The time to go through the lists was used as input for the test. Our null hypothesis assumed no difference in the time going through the lists. An alternative hypothesis assumed that it takes longer time to go through the lists, where there is a word-color mismatch. \n",
    "\n",
    "The statistical test was performed using a one-tailed t-test and an $\\alpha$-level of .05. The null hypothesis was rejected, showing that it is statistically significant with p-value $\\leq$ .05, that it takes longer time to process color rather than letters.\n",
    "\n",
    "The dataset results listed mean time of 14.05 [s] and 22.02 [s] for the congruent and incongruent lists, respectively. The mean difference is 7.96 [s], with a 95% confidence interval of [5.51, 10.42]. This interval further implies that it takes longer time to process color over words, as it is above zero."
   ]
  },
  {
   "cell_type": "markdown",
   "metadata": {},
   "source": [
    "# References\n",
    "\n",
    "1. https://www.scribd.com/doc/111646449/Stroop-Effect\n",
    "2. https://onlinecourses.science.psu.edu/stat200/node/60\n",
    "3. https://stanford.edu/~mwaskom/software/seaborn/examples/distplot_options.html"
   ]
  }
 ],
 "metadata": {
  "kernelspec": {
   "display_name": "Python 2",
   "language": "python",
   "name": "python2"
  },
  "language_info": {
   "codemirror_mode": {
    "name": "ipython",
    "version": 2
   },
   "file_extension": ".py",
   "mimetype": "text/x-python",
   "name": "python",
   "nbconvert_exporter": "python",
   "pygments_lexer": "ipython2",
   "version": "2.7.11"
  }
 },
 "nbformat": 4,
 "nbformat_minor": 0
}

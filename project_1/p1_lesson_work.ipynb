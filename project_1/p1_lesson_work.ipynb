{
 "cells": [
  {
   "cell_type": "code",
   "execution_count": 2,
   "metadata": {
    "collapsed": false
   },
   "outputs": [],
   "source": [
    "import numpy as np\n",
    "import math\n",
    "from __future__ import division\n",
    "import pandas as pd\n",
    "import scipy.stats as stats\n",
    "%matplotlib inline"
   ]
  },
  {
   "cell_type": "code",
   "execution_count": 3,
   "metadata": {
    "collapsed": false,
    "scrolled": true
   },
   "outputs": [
    {
     "name": "stdout",
     "output_type": "stream",
     "text": [
      "17076.9651976\n"
     ]
    }
   ],
   "source": [
    "# Calculate mean\n",
    "data = [33219, 36254, 38801, 46335, 46840, 47596, \\\n",
    "        55130, 56863, 78070, 88830]\n",
    "mean = np.mean(data)\n",
    "\n",
    "all_dev = []\n",
    "for d in data:\n",
    "    all_dev.append(math.fabs(d - mean)**2)\n",
    "\n",
    "print math.sqrt(np.mean(all_dev))\n",
    "    "
   ]
  },
  {
   "cell_type": "code",
   "execution_count": 4,
   "metadata": {
    "collapsed": false
   },
   "outputs": [
    {
     "name": "stdout",
     "output_type": "stream",
     "text": [
      "[41716097.4, 27017124.8, 16558388.6]\n"
     ]
    }
   ],
   "source": [
    "# Testing the map function\n",
    "data = [-6458.8, -5197.8, 4069.2]\n",
    "sq_data = map(lambda x: round(x**2,1), data)\n",
    "print sq_data"
   ]
  },
  {
   "cell_type": "code",
   "execution_count": 5,
   "metadata": {
    "collapsed": false
   },
   "outputs": [
    {
     "name": "stdout",
     "output_type": "stream",
     "text": [
      "   0\n",
      "a  3\n",
      "c  1\n",
      "b  4\n",
      "d  1\n",
      "h  1\n",
      "s  1\n"
     ]
    },
    {
     "data": {
      "text/plain": [
       "<matplotlib.axes._subplots.AxesSubplot at 0x93fffd0>"
      ]
     },
     "execution_count": 5,
     "metadata": {},
     "output_type": "execute_result"
    },
    {
     "data": {
      "image/png": "[encoded data removed]",
      "text/plain": [
       "<matplotlib.figure.Figure at 0x92e3fd0>"
      ]
     },
     "metadata": {},
     "output_type": "display_data"
    }
   ],
   "source": [
    "# Testing pandas frequency plot\n",
    "from collections import Counter\n",
    "some_str = \"absdhbaacbb\"\n",
    "letter_count = Counter(some_str)\n",
    "\n",
    "df = pd.DataFrame.from_dict(letter_count, orient=\"index\")\n",
    "print df\n",
    "df.plot(kind=\"bar\")"
   ]
  },
  {
   "cell_type": "code",
   "execution_count": 6,
   "metadata": {
    "collapsed": false
   },
   "outputs": [
    {
     "name": "stdout",
     "output_type": "stream",
     "text": [
      "3.625\n"
     ]
    }
   ],
   "source": [
    "import random\n",
    "population = [1, 2, 3, 4, 5, 6]\n",
    "\n",
    "sample = 20\n",
    "rounds = 10000\n",
    "for i in range(rounds):\n",
    "    means = []\n",
    "    for j in range(sample):\n",
    "        sample_mean = np.mean([random.choice(population), random.choice(population)])\n",
    "        means.append(sample_mean)\n",
    "    \n",
    "print np.mean(means)  \n"
   ]
  },
  {
   "cell_type": "code",
   "execution_count": 7,
   "metadata": {
    "collapsed": false
   },
   "outputs": [],
   "source": [
    "\"\"\"\n",
    "Calculating confidence intervals.\n",
    "\n",
    "95% --> z-score: 1.96\n",
    "98% --> z-score: \n",
    "99% --> z-score:  \n",
    "\"\"\"\n",
    "\n",
    "def confInterval(mu, sd, z):\n",
    "    cint = [round(i*(sd*z)+mu, 3) for i in [-1, 1]]\n",
    "    print \"Confidence interval\"\n",
    "    print cint\n",
    "\n",
    "# Calutate Z-score\n",
    "def calc_Zscore(mu, se, x):\n",
    "    z = (x - mu) / se\n",
    "    return round(z, 3)"
   ]
  },
  {
   "cell_type": "code",
   "execution_count": 8,
   "metadata": {
    "collapsed": false
   },
   "outputs": [
    {
     "name": "stdout",
     "output_type": "stream",
     "text": [
      "Confidence interval\n",
      "[9.76, 14.24]\n"
     ]
    }
   ],
   "source": [
    "sigma = 2.8\n",
    "sample = [8, 9, 12, 13, 14, 16]\n",
    "n = np.size(sample)\n",
    "sx = sigma / math.sqrt(n)\n",
    "\n",
    "confInterval(mu=np.mean(sample), sd=sx, z=1.96)"
   ]
  },
  {
   "cell_type": "code",
   "execution_count": 9,
   "metadata": {
    "collapsed": false
   },
   "outputs": [
    {
     "name": "stdout",
     "output_type": "stream",
     "text": [
      "15.45\n",
      "Confidence interval\n",
      "[159.55, 190.45]\n"
     ]
    }
   ],
   "source": [
    "calc_Zscore(180, 18/math.sqrt(9), 175)\n",
    "print 2.575*(18./math.sqrt(9))\n",
    "\n",
    "confInterval(mu=175, sd=18/math.sqrt(9), z=2.575)"
   ]
  },
  {
   "cell_type": "code",
   "execution_count": 10,
   "metadata": {
    "collapsed": false
   },
   "outputs": [
    {
     "name": "stdout",
     "output_type": "stream",
     "text": [
      "2.435\n"
     ]
    }
   ],
   "source": [
    "# Population\n",
    "mu = 7.47\n",
    "s = 2.41\n",
    "# Sample\n",
    "n = 50\n",
    "s_mu = mu\n",
    "s_s = s / math.sqrt(n)\n",
    "\n",
    "z_score = calc_Zscore(s_mu, s_s, x=8.3)\n",
    "print z_score"
   ]
  },
  {
   "cell_type": "code",
   "execution_count": 11,
   "metadata": {
    "collapsed": false
   },
   "outputs": [
    {
     "name": "stdout",
     "output_type": "stream",
     "text": [
      "0.340825468532\n",
      "2.43526401819\n"
     ]
    }
   ],
   "source": [
    "mu = 7.47\n",
    "s = 2.41\n",
    "\n",
    "n = 50\n",
    "x_bar = 8.3\n",
    "s_x = s / math.sqrt(n)\n",
    "print s_x\n",
    "\n",
    "print (x_bar - mu) / s_x"
   ]
  },
  {
   "cell_type": "code",
   "execution_count": 12,
   "metadata": {
    "collapsed": false
   },
   "outputs": [
    {
     "name": "stdout",
     "output_type": "stream",
     "text": [
      "8\n",
      "7.59581651776\n",
      "0.977461894334\n"
     ]
    }
   ],
   "source": [
    "sample = [5, 19, 11, 23, 12, 7, 3, 21]\n",
    "mu = np.mean(sample)\n",
    "n = np.size(sample)\n",
    "print n\n",
    "\n",
    "def calc_std(sample):\n",
    "    # Calc some important parameters.\n",
    "    mu = np.mean(sample)\n",
    "    n = np.size(sample)\n",
    "    # Calc. the squarred error\n",
    "    sqerr = [(x-mu)**2 for x in sample]\n",
    "    \n",
    "    return math.sqrt(sum(sqerr) / (n-1))\n",
    "    \n",
    "std = calc_std(sample)\n",
    "print std\n",
    "\n",
    "t = (mu - 10.) / (std / math.sqrt(n))\n",
    "print t\n"
   ]
  },
  {
   "cell_type": "code",
   "execution_count": 13,
   "metadata": {
    "collapsed": false
   },
   "outputs": [
    {
     "name": "stdout",
     "output_type": "stream",
     "text": [
      "2.95465734054\n",
      "96.3241948602\n"
     ]
    }
   ],
   "source": [
    "x1 = 9\n",
    "x2 = 12\n",
    "s1 = 1.2\n",
    "s2 = 2.7\n",
    "\n",
    "x = x2 - x1\n",
    "s = math.sqrt(s1**2 + s2**2)\n",
    "\n",
    "print s\n",
    "\n",
    "print 9 /(s/math.sqrt(1000))"
   ]
  },
  {
   "cell_type": "code",
   "execution_count": 14,
   "metadata": {
    "collapsed": false
   },
   "outputs": [
    {
     "name": "stdout",
     "output_type": "stream",
     "text": [
      "3.86221007542\n",
      "3.45205252953\n",
      "2.44096975265\n"
     ]
    }
   ],
   "source": [
    "# \n",
    "qwerty = [6, 6, 2, 7]\n",
    "alpha = [6, 11, 8, 5]\n",
    "diff = [x-y for x, y in zip(qwerty, alpha)]\n",
    "\n",
    "mu_diff = np.mean(diff)\n",
    "\n",
    "sq = calc_std(qwerty)\n",
    "sa = calc_std(alpha)\n",
    "sd = calc_std(diff)\n",
    "\n",
    "print sd\n",
    "print math.sqrt(sa**2 + sq**2)\n",
    "print math.sqrt( (3*sa**2 + 3*sq**2) / 6)\n",
    "\n"
   ]
  },
  {
   "cell_type": "code",
   "execution_count": 15,
   "metadata": {
    "collapsed": false
   },
   "outputs": [
    {
     "name": "stdout",
     "output_type": "stream",
     "text": [
      "0.166666666667\n"
     ]
    }
   ],
   "source": [
    "# Computing r^2 - coefficient of determination\n",
    "# t-test: t**2 / (t**2 + df)\n",
    "\n",
    "def rsq_ttest(t, df):\n",
    "    return t**2 / (t**2 + df)\n",
    "\n",
    "print rsq_ttest(t=2, df=20)\n"
   ]
  },
  {
   "cell_type": "code",
   "execution_count": 26,
   "metadata": {
    "collapsed": false
   },
   "outputs": [
    {
     "name": "stdout",
     "output_type": "stream",
     "text": [
      "3.499\n"
     ]
    }
   ],
   "source": [
    "# Def calculate the t-statistic\n",
    "def calc_t_statistic(alpha, dof, two_tailed=True):\n",
    "    t_crit = None\n",
    "    if not two_tailed:\n",
    "        t_crit = stats.t.ppf(1 - alpha, dof)\n",
    "    else:\n",
    "        # Two tailed\n",
    "        t_crit = stats.t.ppf(1 - alpha/2, dof)\n",
    "    return round(t_crit, 3)\n",
    "\n",
    "print calc_t_statistic(alpha=0.01, dof=7, two_tailed=True)"
   ]
  }
 ],
 "metadata": {
  "kernelspec": {
   "display_name": "Python 2",
   "language": "python",
   "name": "python2"
  },
  "language_info": {
   "codemirror_mode": {
    "name": "ipython",
    "version": 2
   },
   "file_extension": ".py",
   "mimetype": "text/x-python",
   "name": "python",
   "nbconvert_exporter": "python",
   "pygments_lexer": "ipython2",
   "version": "2.7.11"
  }
 },
 "nbformat": 4,
 "nbformat_minor": 0
}
